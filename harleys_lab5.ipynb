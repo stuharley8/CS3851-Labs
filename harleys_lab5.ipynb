{
 "cells": [
  {
   "cell_type": "markdown",
   "metadata": {},
   "source": [
    "# CS 3851 Algorithms - Lab 5: Breadth-First Search\n",
    "## Stuart Harley"
   ]
  },
  {
   "cell_type": "markdown",
   "metadata": {},
   "source": [
    "### Introduction"
   ]
  },
  {
   "cell_type": "markdown",
   "metadata": {},
   "source": [
    "In this lab we are implementing the breadth-first search algorithm used on graphs. We also implement a friend-recommendation algorithm similar to what can be used in social media platforms using the breadth-first search algorithm.\n",
    "\n",
    "We then perform tests on this algorithm using a provided training and testing graphs. We look at the number of friends recommended, the time it takes, the precision, and the recall all against varying max depths."
   ]
  },
  {
   "cell_type": "markdown",
   "metadata": {},
   "source": [
    "### Importing Libraries"
   ]
  },
  {
   "cell_type": "code",
   "execution_count": 1,
   "metadata": {},
   "outputs": [],
   "source": [
    "import numpy as np\n",
    "import matplotlib.pyplot as plt\n",
    "import time\n",
    "\n",
    "from graphs import *\n",
    "from test_graphs import *"
   ]
  },
  {
   "cell_type": "markdown",
   "metadata": {},
   "source": [
    "### Testing Implementation of Graphs and BFS"
   ]
  },
  {
   "cell_type": "code",
   "execution_count": 2,
   "metadata": {},
   "outputs": [
    {
     "name": "stdout",
     "output_type": "stream",
     "text": [
      "..........\r\n",
      "----------------------------------------------------------------------\r\n",
      "Ran 10 tests in 0.001s\r\n",
      "\r\n",
      "OK\r\n"
     ]
    }
   ],
   "source": [
    "!python test_graphs.py"
   ]
  },
  {
   "cell_type": "markdown",
   "metadata": {},
   "source": [
    "### Evaluating the Recommend_All_Friends Algorithm (Uses BFS under the hood)"
   ]
  },
  {
   "cell_type": "markdown",
   "metadata": {},
   "source": [
    "Loading in the provided datasets."
   ]
  },
  {
   "cell_type": "code",
   "execution_count": 3,
   "metadata": {},
   "outputs": [],
   "source": [
    "training_set, testing_set = load_data('facebook_data/training_set.tsv', 'facebook_data/testing_set.tsv')"
   ]
  },
  {
   "cell_type": "markdown",
   "metadata": {},
   "source": [
    "Evaluating how the number of recommendations varies with the max depth. Running the recommend_all_friends algorithm on the training set with max_depths of 1 to 10."
   ]
  },
  {
   "cell_type": "code",
   "execution_count": 4,
   "metadata": {},
   "outputs": [],
   "source": [
    "start = time.perf_counter()\n",
    "recommended1 = recommend_all_friends(training_set, 1)\n",
    "end = time.perf_counter()\n",
    "r1_time = end-start\n",
    "start = time.perf_counter()\n",
    "recommended2 = recommend_all_friends(training_set, 2)\n",
    "end = time.perf_counter()\n",
    "r2_time = end-start\n",
    "start = time.perf_counter()\n",
    "recommended3 = recommend_all_friends(training_set, 3)\n",
    "end = time.perf_counter()\n",
    "r3_time = end-start\n",
    "start = time.perf_counter()\n",
    "recommended4 = recommend_all_friends(training_set, 4)\n",
    "end = time.perf_counter()\n",
    "r4_time = end-start\n",
    "start = time.perf_counter()\n",
    "recommended5 = recommend_all_friends(training_set, 5)\n",
    "end = time.perf_counter()\n",
    "r5_time = end-start\n",
    "start = time.perf_counter()\n",
    "recommended6 = recommend_all_friends(training_set, 6)\n",
    "end = time.perf_counter()\n",
    "r6_time = end-start\n",
    "start = time.perf_counter()\n",
    "recommended7 = recommend_all_friends(training_set, 7)\n",
    "end = time.perf_counter()\n",
    "r7_time = end-start\n",
    "start = time.perf_counter()\n",
    "recommended8 = recommend_all_friends(training_set, 8)\n",
    "end = time.perf_counter()\n",
    "r8_time = end-start\n",
    "start = time.perf_counter()\n",
    "recommended9 = recommend_all_friends(training_set, 9)\n",
    "end = time.perf_counter()\n",
    "r9_time = end-start\n",
    "start = time.perf_counter()\n",
    "recommended10 = recommend_all_friends(training_set, 10)\n",
    "end = time.perf_counter()\n",
    "r10_time = end-start"
   ]
  },
  {
   "cell_type": "markdown",
   "metadata": {},
   "source": [
    "Plotting the number of edges (Number of Recommnedations) in the resulting graphs vs the max depth."
   ]
  },
  {
   "cell_type": "code",
   "execution_count": 5,
   "metadata": {},
   "outputs": [
    {
     "data": {
      "image/png": "[encoded data removed]",
      "text/plain": [
       "<Figure size 432x288 with 1 Axes>"
      ]
     },
     "metadata": {
      "needs_background": "light"
     },
     "output_type": "display_data"
    }
   ],
   "source": [
    "fig, axes = plt.subplots()\n",
    "axes.scatter(1, recommended1.count_edges(), c='b')\n",
    "axes.scatter(2, recommended2.count_edges(), c='b')\n",
    "axes.scatter(3, recommended3.count_edges(), c='b')\n",
    "axes.scatter(4, recommended4.count_edges(), c='b')\n",
    "axes.scatter(5, recommended5.count_edges(), c='b')\n",
    "axes.scatter(6, recommended6.count_edges(), c='b')\n",
    "axes.scatter(7, recommended7.count_edges(), c='b')\n",
    "axes.scatter(8, recommended8.count_edges(), c='b')\n",
    "axes.scatter(9, recommended9.count_edges(), c='b')\n",
    "axes.scatter(10, recommended10.count_edges(), c='b')\n",
    "axes.set_xlabel('Max Depth', fontsize=14)\n",
    "axes.set_xticks(np.arange(0, 10) + 1)\n",
    "axes.set_ylabel('Recommended Friends', fontsize=14)\n",
    "axes.set_title('Recommended Friends vs. Max Depth', fontsize=16);"
   ]
  },
  {
   "cell_type": "markdown",
   "metadata": {},
   "source": [
    "Plotting the time it takes to recommend friends vs the max depth."
   ]
  },
  {
   "cell_type": "code",
   "execution_count": 6,
   "metadata": {},
   "outputs": [
    {
     "data": {
      "image/png": "[encoded data removed]",
      "text/plain": [
       "<Figure size 432x288 with 1 Axes>"
      ]
     },
     "metadata": {
      "needs_background": "light"
     },
     "output_type": "display_data"
    }
   ],
   "source": [
    "fig, axes = plt.subplots()\n",
    "axes.scatter(1, r1_time, c='b')\n",
    "axes.scatter(2, r2_time, c='b')\n",
    "axes.scatter(3, r3_time, c='b')\n",
    "axes.scatter(4, r4_time, c='b')\n",
    "axes.scatter(5, r5_time, c='b')\n",
    "axes.scatter(6, r6_time, c='b')\n",
    "axes.scatter(7, r7_time, c='b')\n",
    "axes.scatter(8, r8_time, c='b')\n",
    "axes.scatter(9, r9_time, c='b')\n",
    "axes.scatter(10, r10_time, c='b')\n",
    "axes.set_xlabel('Max Depth', fontsize=14)\n",
    "axes.set_xticks(np.arange(0, 10) + 1)\n",
    "axes.set_ylabel('Time to Recommend Friends (sec)', fontsize=14)\n",
    "axes.set_yticks([0, .5, 1.0, 1.5, 2.0, 2.5])\n",
    "axes.set_title('Time to Recommend vs. Max Depth', fontsize=16);"
   ]
  },
  {
   "cell_type": "markdown",
   "metadata": {},
   "source": [
    "Calculating the precisions of the recommended friends. Precision indicates how many of the recommended edges are in the testing test.\n",
    "\n",
    "Precision = number of recommended edges in test set / number of recommended edges"
   ]
  },
  {
   "cell_type": "code",
   "execution_count": 7,
   "metadata": {},
   "outputs": [],
   "source": [
    "# precision1 = len(testing_set.edge_set().intersection(recommended1.edge_set())) / recommended1.count_edges() division by 0\n",
    "precision1 = 0\n",
    "precision2 = len(testing_set.edge_set().intersection(recommended2.edge_set())) / recommended2.count_edges()\n",
    "precision3 = len(testing_set.edge_set().intersection(recommended3.edge_set())) / recommended3.count_edges()\n",
    "precision4 = len(testing_set.edge_set().intersection(recommended4.edge_set())) / recommended4.count_edges()\n",
    "precision5 = len(testing_set.edge_set().intersection(recommended5.edge_set())) / recommended5.count_edges()\n",
    "precision6 = len(testing_set.edge_set().intersection(recommended6.edge_set())) / recommended6.count_edges()\n",
    "precision7 = len(testing_set.edge_set().intersection(recommended7.edge_set())) / recommended7.count_edges()\n",
    "precision8 = len(testing_set.edge_set().intersection(recommended8.edge_set())) / recommended8.count_edges()\n",
    "precision9 = len(testing_set.edge_set().intersection(recommended9.edge_set())) / recommended9.count_edges()\n",
    "precision10 = len(testing_set.edge_set().intersection(recommended10.edge_set())) / recommended10.count_edges()"
   ]
  },
  {
   "cell_type": "markdown",
   "metadata": {},
   "source": [
    "Calculating the recalls of the recommended friends. Recall indicates how many of the edges in the testing set are in the recommendations.\n",
    "\n",
    "Recall = number of test set edges in recommended set / number of test set edges"
   ]
  },
  {
   "cell_type": "code",
   "execution_count": 8,
   "metadata": {},
   "outputs": [],
   "source": [
    "recall1 = len(testing_set.edge_set().intersection(recommended1.edge_set())) / testing_set.count_edges()\n",
    "recall2 = len(testing_set.edge_set().intersection(recommended2.edge_set())) / testing_set.count_edges()\n",
    "recall3 = len(testing_set.edge_set().intersection(recommended3.edge_set())) / testing_set.count_edges()\n",
    "recall4 = len(testing_set.edge_set().intersection(recommended4.edge_set())) / testing_set.count_edges()\n",
    "recall5 = len(testing_set.edge_set().intersection(recommended5.edge_set())) / testing_set.count_edges()\n",
    "recall6 = len(testing_set.edge_set().intersection(recommended6.edge_set())) / testing_set.count_edges()\n",
    "recall7 = len(testing_set.edge_set().intersection(recommended7.edge_set())) / testing_set.count_edges()\n",
    "recall8 = len(testing_set.edge_set().intersection(recommended8.edge_set())) / testing_set.count_edges()\n",
    "recall9 = len(testing_set.edge_set().intersection(recommended9.edge_set())) / testing_set.count_edges()\n",
    "recall10 = len(testing_set.edge_set().intersection(recommended10.edge_set())) / testing_set.count_edges()"
   ]
  },
  {
   "cell_type": "markdown",
   "metadata": {},
   "source": [
    "Plotting the precisions vs the max depth."
   ]
  },
  {
   "cell_type": "code",
   "execution_count": 9,
   "metadata": {},
   "outputs": [
    {
     "data": {
      "image/png": "[encoded data removed]",
      "text/plain": [
       "<Figure size 432x288 with 1 Axes>"
      ]
     },
     "metadata": {
      "needs_background": "light"
     },
     "output_type": "display_data"
    }
   ],
   "source": [
    "fig, axes = plt.subplots()\n",
    "axes.scatter(1, precision1, c='b')\n",
    "axes.scatter(2, precision2, c='b')\n",
    "axes.scatter(3, precision3, c='b')\n",
    "axes.scatter(4, precision4, c='b')\n",
    "axes.scatter(5, precision5, c='b')\n",
    "axes.scatter(6, precision6, c='b')\n",
    "axes.scatter(7, precision7, c='b')\n",
    "axes.scatter(8, precision8, c='b')\n",
    "axes.scatter(9, precision9, c='b')\n",
    "axes.scatter(10, precision10, c='b')\n",
    "axes.set_xlabel('Max Depth', fontsize=14)\n",
    "axes.set_xticks(np.arange(0, 10) + 1)\n",
    "axes.set_ylabel('Precision', fontsize=14)\n",
    "axes.set_yticks([0, .005, .010, .015, .02])\n",
    "axes.set_ylim(-.001)\n",
    "axes.set_title('Precision vs. Max Depth', fontsize=16);"
   ]
  },
  {
   "cell_type": "markdown",
   "metadata": {},
   "source": [
    "Plotting the recalls vs the max depth."
   ]
  },
  {
   "cell_type": "code",
   "execution_count": 10,
   "metadata": {},
   "outputs": [
    {
     "data": {
      "image/png": "[encoded data removed]",
      "text/plain": [
       "<Figure size 432x288 with 1 Axes>"
      ]
     },
     "metadata": {
      "needs_background": "light"
     },
     "output_type": "display_data"
    }
   ],
   "source": [
    "fig, axes = plt.subplots()\n",
    "axes.scatter(1, recall1, c='b')\n",
    "axes.scatter(2, recall2, c='b')\n",
    "axes.scatter(3, recall3, c='b')\n",
    "axes.scatter(4, recall4, c='b')\n",
    "axes.scatter(5, recall5, c='b')\n",
    "axes.scatter(6, recall6, c='b')\n",
    "axes.scatter(7, recall7, c='b')\n",
    "axes.scatter(8, recall8, c='b')\n",
    "axes.scatter(9, recall9, c='b')\n",
    "axes.scatter(10, recall10, c='b')\n",
    "axes.set_xlabel('Max Depth', fontsize=14)\n",
    "axes.set_xticks(np.arange(0, 10) + 1)\n",
    "axes.set_ylabel('Recall', fontsize=14)\n",
    "axes.set_title('Recall vs. Max Depth', fontsize=16);"
   ]
  },
  {
   "cell_type": "markdown",
   "metadata": {},
   "source": [
    "### Reflection Questions"
   ]
  },
  {
   "cell_type": "markdown",
   "metadata": {},
   "source": [
    "1) Once a max depth of 6 is reached the number of recommended friends plateuas. This is because everyone in the training set graph is connected to everyone else by about 6 friends or less."
   ]
  },
  {
   "cell_type": "markdown",
   "metadata": {},
   "source": [
    "2) Precision decreases as the max depth increases. The testing set is a graph of friends that are the best friends to recommend. As max depth increases, the recommended friends are further and further away from the person they are being recommended to. There are also more of them as max depth increases. Therefore, the precision of the recommendations decreases because primarily only the recommendations from the lower max depths are going to be present in the testing set."
   ]
  },
  {
   "cell_type": "markdown",
   "metadata": {},
   "source": [
    "3) Recall increases as max depth increases. Recall measures how many of the connections in the testing set were present in the recommendations from the training set. Since the training set recommends more friends as the max depth increases, it becomes more likely that every connection in the testing set will be recommended."
   ]
  },
  {
   "cell_type": "markdown",
   "metadata": {},
   "source": [
    "4) Our stated goal is to generate an initial set of recommendations which we can further filter with another algorithm. If we needed to compare all users, we would have 784 * 786 = 614,656 pairs to look at. For this reason, I would choose a max depth of 2 to generate recommendations from. A max depth of 1 doesn't recommend any friends because if you are 1 connection away from someone, then they are already your friend. The next up is a max depth of 2 which still recommends 153,388 connections. This is still ~195 recommendations per user. This is more than enough to then further filter and present a lot of options to each user. Also, because these people are closer to you in the graph, they are more likely to be relevant than recommendations with a higher max depth."
   ]
  },
  {
   "cell_type": "markdown",
   "metadata": {},
   "source": [
    "5) Breadth first search is more appropriate than depth first search for this problem. This is because the closer users are going to be better recommendations than the further away users. Breadth first search searches all vertices at increasing distances from the source. So it will search all the most relevant friends first before going to less relevant recommendations. Depth first search expands downwards first, so it will search a lot of friends that are further away first which are going to be less relevant recommendations."
   ]
  },
  {
   "cell_type": "markdown",
   "metadata": {},
   "source": [
    "6) We modified the breadth-first search to limit the depth because, since we do not specify a goal vertex to reach (and stop at), the breadth first search would continue until every vertex has been searched. For our goal of recommending friends, it is not neccesary for us to search the entire graph, just the closest users which will be the most relevant recommendations. Therefore, we limit the max depth."
   ]
  },
  {
   "cell_type": "markdown",
   "metadata": {},
   "source": [
    "### Conclusion"
   ]
  },
  {
   "cell_type": "markdown",
   "metadata": {},
   "source": [
    "Social media platforms can use a \"simple\" breadth-first search algorithm to generate an initial list of recommended friends. These recommendations can then be further refined by more computationally expensive algorithms to generate the recommended friends that show up on our accounts."
   ]
  }
 ],
 "metadata": {
  "kernelspec": {
   "display_name": "Python 3",
   "language": "python",
   "name": "python3"
  },
  "language_info": {
   "codemirror_mode": {
    "name": "ipython",
    "version": 3
   },
   "file_extension": ".py",
   "mimetype": "text/x-python",
   "name": "python",
   "nbconvert_exporter": "python",
   "pygments_lexer": "ipython3",
   "version": "3.7.3"
  }
 },
 "nbformat": 4,
 "nbformat_minor": 2
}
