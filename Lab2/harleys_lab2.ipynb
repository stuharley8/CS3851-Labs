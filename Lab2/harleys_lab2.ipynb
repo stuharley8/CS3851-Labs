{
 "cells": [
  {
   "cell_type": "markdown",
   "metadata": {},
   "source": [
    "# CS 3851 Algorithms - Lab 2: Comparing Insertion and Selection Sort\n",
    "\n",
    "## Stuart Harley"
   ]
  },
  {
   "cell_type": "markdown",
   "metadata": {},
   "source": [
    "### Introduction"
   ]
  },
  {
   "cell_type": "markdown",
   "metadata": {},
   "source": [
    "In this lab we are implementing the sorting algorithms insertion sort and selection sort. We are then going to benchmark the algorithms under the best (already sorted), worst (reverse sorted), and average (random permutation) case scenarios. Then we will plot the benchmarking times in order to further analyze and compare the run times of the two algorithms."
   ]
  },
  {
   "cell_type": "markdown",
   "metadata": {},
   "source": [
    "### Importing Libraries"
   ]
  },
  {
   "cell_type": "code",
   "execution_count": 1,
   "metadata": {},
   "outputs": [],
   "source": [
    "import time\n",
    "import numpy as np\n",
    "import random\n",
    "import matplotlib.pyplot as plt"
   ]
  },
  {
   "cell_type": "markdown",
   "metadata": {},
   "source": [
    "### Implementing Insertion Sort"
   ]
  },
  {
   "cell_type": "code",
   "execution_count": 2,
   "metadata": {},
   "outputs": [],
   "source": [
    "def insertion_sort(lst) -> None:\n",
    "    \"\"\"\n",
    "    Sorts a list in place by picking the next value from the unsorted part of the list\n",
    "    and inserting it in the correct place in the sorted part.\n",
    "    \"\"\"\n",
    "    for j in range(1, len(lst)):\n",
    "        key = lst[j]\n",
    "        i = j-1\n",
    "        while i>=0 and lst[i] > key:\n",
    "            lst[i+1] = lst[i]\n",
    "            i = i-1\n",
    "        lst[i+1] = key"
   ]
  },
  {
   "cell_type": "markdown",
   "metadata": {},
   "source": [
    "### Implementing Selection Sort"
   ]
  },
  {
   "cell_type": "code",
   "execution_count": 3,
   "metadata": {},
   "outputs": [],
   "source": [
    "def selection_sort(lst) -> None:\n",
    "    \"\"\"\n",
    "    Sorts a list in place by repeatedly finding the smallest element from the unsorted\n",
    "    part and putting it at the beginning.\n",
    "    \"\"\"\n",
    "    n = len(lst)\n",
    "    for j in range(n-1):\n",
    "        smallest = j\n",
    "        for i in range(j+1, n):\n",
    "            if lst[i] < lst[smallest]:\n",
    "                smallest = i\n",
    "        tmp = lst[j]\n",
    "        lst[j] = lst[smallest]\n",
    "        lst[smallest] = tmp"
   ]
  },
  {
   "cell_type": "markdown",
   "metadata": {},
   "source": [
    "### Creating lists to use for benchmarking"
   ]
  },
  {
   "cell_type": "markdown",
   "metadata": {},
   "source": [
    "For benchmarking, we will evaluate 3 cases: list is already sorted, list is randomly permuted, and list is already sorted in reverse order."
   ]
  },
  {
   "cell_type": "markdown",
   "metadata": {},
   "source": [
    "Creating lists of 1000, 2500, 5000, 10000, 25000, and 50000 numbers. Creating the lists from random numbers. Then shuffling them to generate a random permutation of the list or sorting them in regular/reverse order to create the desired cases."
   ]
  },
  {
   "cell_type": "markdown",
   "metadata": {},
   "source": [
    "_p, _o, _r refers to the list being randomly permutated, sorted in order, and sorted in reverse order respectively."
   ]
  },
  {
   "cell_type": "code",
   "execution_count": 4,
   "metadata": {},
   "outputs": [],
   "source": [
    "l1000 = []\n",
    "for x in range(1000):\n",
    "    l1000.append(random.random())\n",
    "random.shuffle(l1000) # shuffling the list to generate a random permutation\n",
    "l1000_p = l1000[:]\n",
    "l1000.sort() # sorting the list in order\n",
    "l1000_o = l1000[:]\n",
    "l1000.sort(reverse=True) # sorting the list in reverse order\n",
    "l1000_r = l1000[:]"
   ]
  },
  {
   "cell_type": "code",
   "execution_count": 5,
   "metadata": {},
   "outputs": [],
   "source": [
    "l2500 = []\n",
    "for x in range(2500):\n",
    "    l2500.append(random.random())\n",
    "random.shuffle(l2500) # shuffling the list to generate a random permutation\n",
    "l2500_p = l2500[:]\n",
    "l2500.sort() # sorting the list in order\n",
    "l2500_o = l2500[:]\n",
    "l2500.sort(reverse=True) # sorting the list in reverse order\n",
    "l2500_r = l2500[:]"
   ]
  },
  {
   "cell_type": "code",
   "execution_count": 6,
   "metadata": {},
   "outputs": [],
   "source": [
    "l5000 = []\n",
    "for x in range(5000):\n",
    "    l5000.append(random.random())\n",
    "random.shuffle(l5000) # shuffling the list to generate a random permutation\n",
    "l5000_p = l5000[:]\n",
    "l5000.sort() # sorting the list in order\n",
    "l5000_o = l5000[:]\n",
    "l5000.sort(reverse=True) # sorting the list in reverse order\n",
    "l5000_r = l5000[:]"
   ]
  },
  {
   "cell_type": "code",
   "execution_count": 7,
   "metadata": {},
   "outputs": [],
   "source": [
    "l10000 = []\n",
    "for x in range(10000):\n",
    "    l10000.append(random.random())\n",
    "random.shuffle(l10000) # shuffling the list to generate a random permutation\n",
    "l10000_p = l10000[:]\n",
    "l10000.sort() # sorting the list in order\n",
    "l10000_o = l10000[:]\n",
    "l10000.sort(reverse=True) # sorting the list in reverse order\n",
    "l10000_r = l10000[:]"
   ]
  },
  {
   "cell_type": "code",
   "execution_count": 8,
   "metadata": {},
   "outputs": [],
   "source": [
    "l25000 = []\n",
    "for x in range(25000):\n",
    "    l25000.append(random.random())\n",
    "random.shuffle(l25000) # shuffling the list to generate a random permutation\n",
    "l25000_p = l25000[:]\n",
    "l25000.sort() # sorting the list in order\n",
    "l25000_o = l25000[:]\n",
    "l25000.sort(reverse=True) # sorting the list in reverse order\n",
    "l25000_r = l25000[:]"
   ]
  },
  {
   "cell_type": "code",
   "execution_count": 9,
   "metadata": {},
   "outputs": [],
   "source": [
    "l50000 = []\n",
    "for x in range(50000):\n",
    "    l50000.append(random.random())\n",
    "random.shuffle(l50000) # shuffling the list to generate a random permutation\n",
    "l50000_p = l50000[:]\n",
    "l50000.sort() # sorting the list in order\n",
    "l50000_o = l50000[:]\n",
    "l50000.sort(reverse=True) # sorting the list in reverse order\n",
    "l50000_r = l50000[:]"
   ]
  },
  {
   "cell_type": "markdown",
   "metadata": {},
   "source": [
    "### Benchmarking the Insertion Sort Algorithm"
   ]
  },
  {
   "cell_type": "markdown",
   "metadata": {},
   "source": [
    "We are running each benchmark 3 times (trials)."
   ]
  },
  {
   "cell_type": "code",
   "execution_count": 10,
   "metadata": {},
   "outputs": [],
   "source": [
    "n_trials = 3\n",
    "run_times_best_i = []\n",
    "run_times_average_i = []\n",
    "run_times_worst_i = []"
   ]
  },
  {
   "cell_type": "code",
   "execution_count": 11,
   "metadata": {},
   "outputs": [
    {
     "name": "stdout",
     "output_type": "stream",
     "text": [
      "1000 elements: randomly permuted\n",
      "Average Time: 0.0321856546215713 sec\n"
     ]
    }
   ],
   "source": [
    "times = []\n",
    "for i in range(n_trials):\n",
    "    lst2 = l1000_p[:] # copying the input list so we don't modify it\n",
    "    random.shuffle(lst2); # Shuffling the list so the average is over 3 different permutations\n",
    "    start = time.perf_counter()\n",
    "    insertion_sort(lst2)\n",
    "    end = time.perf_counter()\n",
    "    elapsed = end - start\n",
    "    times.append(elapsed)\n",
    "print('1000 elements: randomly permuted')\n",
    "print('Average Time:', np.mean(times), 'sec')\n",
    "run_times_average_i.append(np.mean(times))"
   ]
  },
  {
   "cell_type": "code",
   "execution_count": 12,
   "metadata": {},
   "outputs": [
    {
     "name": "stdout",
     "output_type": "stream",
     "text": [
      "1000 elements: Sorted in Order\n",
      "Average Time: 0.00015166564844548702 sec\n"
     ]
    }
   ],
   "source": [
    "times = []\n",
    "for i in range(n_trials):\n",
    "    lst2 = l1000_o[:] # copying the input list so we don't modify it\n",
    "    start = time.perf_counter()\n",
    "    insertion_sort(lst2)\n",
    "    end = time.perf_counter()\n",
    "    elapsed = end - start\n",
    "    times.append(elapsed)\n",
    "print('1000 elements: Sorted in Order')\n",
    "print('Average Time:', np.mean(times), 'sec')\n",
    "run_times_best_i.append(np.mean(times))"
   ]
  },
  {
   "cell_type": "code",
   "execution_count": 13,
   "metadata": {},
   "outputs": [
    {
     "name": "stdout",
     "output_type": "stream",
     "text": [
      "1000 elements: Sorted in Reverse\n",
      "Average Time: 0.05797686466636757 sec\n"
     ]
    }
   ],
   "source": [
    "times = []\n",
    "for i in range(n_trials):\n",
    "    lst2 = l1000_r[:] # copying the input list so we don't modify it\n",
    "    start = time.perf_counter()\n",
    "    insertion_sort(lst2)\n",
    "    end = time.perf_counter()\n",
    "    elapsed = end - start\n",
    "    times.append(elapsed)\n",
    "print('1000 elements: Sorted in Reverse')\n",
    "print('Average Time:', np.mean(times), 'sec')\n",
    "run_times_worst_i.append(np.mean(times))"
   ]
  },
  {
   "cell_type": "code",
   "execution_count": 14,
   "metadata": {},
   "outputs": [
    {
     "name": "stdout",
     "output_type": "stream",
     "text": [
      "2500 elements: randomly permuted\n",
      "Average Time: 0.19090306929623088 sec\n",
      "2500 elements: Sorted in Order\n",
      "Average Time: 0.0003677193696300189 sec\n",
      "2500 elements: Sorted in Reverse\n",
      "Average Time: 0.3693540373351425 sec\n"
     ]
    }
   ],
   "source": [
    "# 2500 elements\n",
    "times = []\n",
    "for i in range(n_trials):\n",
    "    lst2 = l2500_p[:] # copying the input list so we don't modify it\n",
    "    random.shuffle(lst2); # Shuffling the list so the average is over 3 different permutations\n",
    "    start = time.perf_counter()\n",
    "    insertion_sort(lst2)\n",
    "    end = time.perf_counter()\n",
    "    elapsed = end - start\n",
    "    times.append(elapsed)\n",
    "print('2500 elements: randomly permuted')\n",
    "print('Average Time:', np.mean(times), 'sec')\n",
    "run_times_average_i.append(np.mean(times))\n",
    "\n",
    "times = []\n",
    "for i in range(n_trials):\n",
    "    lst2 = l2500_o[:] # copying the input list so we don't modify it\n",
    "    start = time.perf_counter()\n",
    "    insertion_sort(lst2)\n",
    "    end = time.perf_counter()\n",
    "    elapsed = end - start\n",
    "    times.append(elapsed)\n",
    "print('2500 elements: Sorted in Order')\n",
    "print('Average Time:', np.mean(times), 'sec')\n",
    "run_times_best_i.append(np.mean(times))\n",
    "\n",
    "times = []\n",
    "for i in range(n_trials):\n",
    "    lst2 = l2500_r[:] # copying the input list so we don't modify it\n",
    "    start = time.perf_counter()\n",
    "    insertion_sort(lst2)\n",
    "    end = time.perf_counter()\n",
    "    elapsed = end - start\n",
    "    times.append(elapsed)\n",
    "print('2500 elements: Sorted in Reverse')\n",
    "print('Average Time:', np.mean(times), 'sec')\n",
    "run_times_worst_i.append(np.mean(times))"
   ]
  },
  {
   "cell_type": "code",
   "execution_count": 15,
   "metadata": {},
   "outputs": [
    {
     "name": "stdout",
     "output_type": "stream",
     "text": [
      "5000 elements: randomly permuted\n",
      "Average Time: 0.7608739707308511 sec\n",
      "5000 elements: Sorted in Order\n",
      "Average Time: 0.0007379932794719934 sec\n",
      "5000 elements: Sorted in Reverse\n",
      "Average Time: 1.484782649980237 sec\n"
     ]
    }
   ],
   "source": [
    "# 5000 elements\n",
    "times = []\n",
    "for i in range(n_trials):\n",
    "    lst2 = l5000_p[:] # copying the input list so we don't modify it\n",
    "    random.shuffle(lst2); # Shuffling the list so the average is over 3 different permutations\n",
    "    start = time.perf_counter()\n",
    "    insertion_sort(lst2)\n",
    "    end = time.perf_counter()\n",
    "    elapsed = end - start\n",
    "    times.append(elapsed)\n",
    "print('5000 elements: randomly permuted')\n",
    "print('Average Time:', np.mean(times), 'sec')\n",
    "run_times_average_i.append(np.mean(times))\n",
    "\n",
    "times = []\n",
    "for i in range(n_trials):\n",
    "    lst2 = l5000_o[:] # copying the input list so we don't modify it\n",
    "    start = time.perf_counter()\n",
    "    insertion_sort(lst2)\n",
    "    end = time.perf_counter()\n",
    "    elapsed = end - start\n",
    "    times.append(elapsed)\n",
    "print('5000 elements: Sorted in Order')\n",
    "print('Average Time:', np.mean(times), 'sec')\n",
    "run_times_best_i.append(np.mean(times))\n",
    "\n",
    "times = []\n",
    "for i in range(n_trials):\n",
    "    lst2 = l5000_r[:] # copying the input list so we don't modify it\n",
    "    start = time.perf_counter()\n",
    "    insertion_sort(lst2)\n",
    "    end = time.perf_counter()\n",
    "    elapsed = end - start\n",
    "    times.append(elapsed)\n",
    "print('5000 elements: Sorted in Reverse')\n",
    "print('Average Time:', np.mean(times), 'sec')\n",
    "run_times_worst_i.append(np.mean(times))"
   ]
  },
  {
   "cell_type": "code",
   "execution_count": 16,
   "metadata": {},
   "outputs": [
    {
     "name": "stdout",
     "output_type": "stream",
     "text": [
      "10000 elements: randomly permuted\n",
      "Average Time: 3.041042390279472 sec\n",
      "10000 elements: Sorted in Order\n",
      "Average Time: 0.0015111076645553112 sec\n",
      "10000 elements: Sorted in Reverse\n",
      "Average Time: 6.049909281001116 sec\n"
     ]
    }
   ],
   "source": [
    "# 10,000 elements\n",
    "times = []\n",
    "for i in range(n_trials):\n",
    "    lst2 = l10000_p[:] # copying the input list so we don't modify it\n",
    "    random.shuffle(lst2); # Shuffling the list so the average is over 3 different permutations\n",
    "    start = time.perf_counter()\n",
    "    insertion_sort(lst2)\n",
    "    end = time.perf_counter()\n",
    "    elapsed = end - start\n",
    "    times.append(elapsed)\n",
    "print('10000 elements: randomly permuted')\n",
    "print('Average Time:', np.mean(times), 'sec')\n",
    "run_times_average_i.append(np.mean(times))\n",
    "\n",
    "times = []\n",
    "for i in range(n_trials):\n",
    "    lst2 = l10000_o[:] # copying the input list so we don't modify it\n",
    "    start = time.perf_counter()\n",
    "    insertion_sort(lst2)\n",
    "    end = time.perf_counter()\n",
    "    elapsed = end - start\n",
    "    times.append(elapsed)\n",
    "print('10000 elements: Sorted in Order')\n",
    "print('Average Time:', np.mean(times), 'sec')\n",
    "run_times_best_i.append(np.mean(times))\n",
    "\n",
    "times = []\n",
    "for i in range(n_trials):\n",
    "    lst2 = l10000_r[:] # copying the input list so we don't modify it\n",
    "    start = time.perf_counter()\n",
    "    insertion_sort(lst2)\n",
    "    end = time.perf_counter()\n",
    "    elapsed = end - start\n",
    "    times.append(elapsed)\n",
    "print('10000 elements: Sorted in Reverse')\n",
    "print('Average Time:', np.mean(times), 'sec')\n",
    "run_times_worst_i.append(np.mean(times))"
   ]
  },
  {
   "cell_type": "code",
   "execution_count": 17,
   "metadata": {},
   "outputs": [
    {
     "name": "stdout",
     "output_type": "stream",
     "text": [
      "25000 elements: randomly permuted\n",
      "Average Time: 19.068582944960024 sec\n",
      "25000 elements: Sorted in Order\n",
      "Average Time: 0.004138392396271229 sec\n",
      "25000 elements: Sorted in Reverse\n",
      "Average Time: 37.788394283115245 sec\n"
     ]
    }
   ],
   "source": [
    "# 25,000 elements\n",
    "times = []\n",
    "for i in range(n_trials):\n",
    "    lst2 = l25000_p[:] # copying the input list so we don't modify it\n",
    "    random.shuffle(lst2); # Shuffling the list so the average is over 3 different permutations\n",
    "    start = time.perf_counter()\n",
    "    insertion_sort(lst2)\n",
    "    end = time.perf_counter()\n",
    "    elapsed = end - start\n",
    "    times.append(elapsed)\n",
    "print('25000 elements: randomly permuted')\n",
    "print('Average Time:', np.mean(times), 'sec')\n",
    "run_times_average_i.append(np.mean(times))\n",
    "\n",
    "times = []\n",
    "for i in range(n_trials):\n",
    "    lst2 = l25000_o[:] # copying the input list so we don't modify it\n",
    "    start = time.perf_counter()\n",
    "    insertion_sort(lst2)\n",
    "    end = time.perf_counter()\n",
    "    elapsed = end - start\n",
    "    times.append(elapsed)\n",
    "print('25000 elements: Sorted in Order')\n",
    "print('Average Time:', np.mean(times), 'sec')\n",
    "run_times_best_i.append(np.mean(times))\n",
    "\n",
    "times = []\n",
    "for i in range(n_trials):\n",
    "    lst2 = l25000_r[:] # copying the input list so we don't modify it\n",
    "    start = time.perf_counter()\n",
    "    insertion_sort(lst2)\n",
    "    end = time.perf_counter()\n",
    "    elapsed = end - start\n",
    "    times.append(elapsed)\n",
    "print('25000 elements: Sorted in Reverse')\n",
    "print('Average Time:', np.mean(times), 'sec')\n",
    "run_times_worst_i.append(np.mean(times))"
   ]
  },
  {
   "cell_type": "code",
   "execution_count": 18,
   "metadata": {},
   "outputs": [
    {
     "name": "stdout",
     "output_type": "stream",
     "text": [
      "50000 elements: randomly permuted\n",
      "Average Time: 78.1450227809449 sec\n",
      "50000 elements: Sorted in Order\n",
      "Average Time: 0.0093936532891045 sec\n",
      "50000 elements: Sorted in Reverse\n",
      "Average Time: 152.88598153266744 sec\n"
     ]
    }
   ],
   "source": [
    "# 50,000 elements\n",
    "times = []\n",
    "for i in range(n_trials):\n",
    "    lst2 = l50000_p[:] # copying the input list so we don't modify it\n",
    "    random.shuffle(lst2); # Shuffling the list so the average is over 3 different permutations\n",
    "    start = time.perf_counter()\n",
    "    insertion_sort(lst2)\n",
    "    end = time.perf_counter()\n",
    "    elapsed = end - start\n",
    "    times.append(elapsed)\n",
    "print('50000 elements: randomly permuted')\n",
    "print('Average Time:', np.mean(times), 'sec')\n",
    "run_times_average_i.append(np.mean(times))\n",
    "\n",
    "times = []\n",
    "for i in range(n_trials):\n",
    "    lst2 = l50000_o[:] # copying the input list so we don't modify it\n",
    "    start = time.perf_counter()\n",
    "    insertion_sort(lst2)\n",
    "    end = time.perf_counter()\n",
    "    elapsed = end - start\n",
    "    times.append(elapsed)\n",
    "print('50000 elements: Sorted in Order')\n",
    "print('Average Time:', np.mean(times), 'sec')\n",
    "run_times_best_i.append(np.mean(times))\n",
    "\n",
    "times = []\n",
    "for i in range(n_trials):\n",
    "    lst2 = l50000_r[:] # copying the input list so we don't modify it\n",
    "    start = time.perf_counter()\n",
    "    insertion_sort(lst2)\n",
    "    end = time.perf_counter()\n",
    "    elapsed = end - start\n",
    "    times.append(elapsed)\n",
    "print('50000 elements: Sorted in Reverse')\n",
    "print('Average Time:', np.mean(times), 'sec')\n",
    "run_times_worst_i.append(np.mean(times))"
   ]
  },
  {
   "cell_type": "markdown",
   "metadata": {},
   "source": [
    "### Benchmarking the Selection Sort Algorithm"
   ]
  },
  {
   "cell_type": "code",
   "execution_count": 19,
   "metadata": {},
   "outputs": [],
   "source": [
    "run_times_best_s = []\n",
    "run_times_average_s = []\n",
    "run_times_worst_s = []"
   ]
  },
  {
   "cell_type": "code",
   "execution_count": 20,
   "metadata": {},
   "outputs": [
    {
     "name": "stdout",
     "output_type": "stream",
     "text": [
      "1000 elements: randomly permuted\n",
      "Average Time: 0.03073661293213566 sec\n",
      "1000 elements: Sorted in Order\n",
      "Average Time: 0.02791803873454531 sec\n",
      "1000 elements: Sorted in Reverse\n",
      "Average Time: 0.029116273236771423 sec\n"
     ]
    }
   ],
   "source": [
    "# 1000 elements\n",
    "times = []\n",
    "for i in range(n_trials):\n",
    "    lst2 = l1000_p[:] # copying the input list so we don't modify it\n",
    "    random.shuffle(lst2); # Shuffling the list so the average is over 3 different permutations\n",
    "    start = time.perf_counter()\n",
    "    selection_sort(lst2)\n",
    "    end = time.perf_counter()\n",
    "    elapsed = end - start\n",
    "    times.append(elapsed)\n",
    "print('1000 elements: randomly permuted')\n",
    "print('Average Time:', np.mean(times), 'sec')\n",
    "run_times_average_s.append(np.mean(times))\n",
    "\n",
    "times = []\n",
    "for i in range(n_trials):\n",
    "    lst2 = l1000_o[:] # copying the input list so we don't modify it\n",
    "    start = time.perf_counter()\n",
    "    selection_sort(lst2)\n",
    "    end = time.perf_counter()\n",
    "    elapsed = end - start\n",
    "    times.append(elapsed)\n",
    "print('1000 elements: Sorted in Order')\n",
    "print('Average Time:', np.mean(times), 'sec')\n",
    "run_times_best_s.append(np.mean(times))\n",
    "\n",
    "times = []\n",
    "for i in range(n_trials):\n",
    "    lst2 = l1000_r[:] # copying the input list so we don't modify it\n",
    "    start = time.perf_counter()\n",
    "    selection_sort(lst2)\n",
    "    end = time.perf_counter()\n",
    "    elapsed = end - start\n",
    "    times.append(elapsed)\n",
    "print('1000 elements: Sorted in Reverse')\n",
    "print('Average Time:', np.mean(times), 'sec')\n",
    "run_times_worst_s.append(np.mean(times))"
   ]
  },
  {
   "cell_type": "code",
   "execution_count": 21,
   "metadata": {},
   "outputs": [
    {
     "name": "stdout",
     "output_type": "stream",
     "text": [
      "2500 elements: randomly permuted\n",
      "Average Time: 0.1748408693820238 sec\n",
      "2500 elements: Sorted in Order\n",
      "Average Time: 0.17671284700433412 sec\n",
      "2500 elements: Sorted in Reverse\n",
      "Average Time: 0.18041938558841744 sec\n"
     ]
    }
   ],
   "source": [
    "# 2500 elements\n",
    "times = []\n",
    "for i in range(n_trials):\n",
    "    lst2 = l2500_p[:] # copying the input list so we don't modify it\n",
    "    random.shuffle(lst2); # Shuffling the list so the average is over 3 different permutations\n",
    "    start = time.perf_counter()\n",
    "    selection_sort(lst2)\n",
    "    end = time.perf_counter()\n",
    "    elapsed = end - start\n",
    "    times.append(elapsed)\n",
    "print('2500 elements: randomly permuted')\n",
    "print('Average Time:', np.mean(times), 'sec')\n",
    "run_times_average_s.append(np.mean(times))\n",
    "\n",
    "times = []\n",
    "for i in range(n_trials):\n",
    "    lst2 = l2500_o[:] # copying the input list so we don't modify it\n",
    "    start = time.perf_counter()\n",
    "    selection_sort(lst2)\n",
    "    end = time.perf_counter()\n",
    "    elapsed = end - start\n",
    "    times.append(elapsed)\n",
    "print('2500 elements: Sorted in Order')\n",
    "print('Average Time:', np.mean(times), 'sec')\n",
    "run_times_best_s.append(np.mean(times))\n",
    "\n",
    "times = []\n",
    "for i in range(n_trials):\n",
    "    lst2 = l2500_r[:] # copying the input list so we don't modify it\n",
    "    start = time.perf_counter()\n",
    "    selection_sort(lst2)\n",
    "    end = time.perf_counter()\n",
    "    elapsed = end - start\n",
    "    times.append(elapsed)\n",
    "print('2500 elements: Sorted in Reverse')\n",
    "print('Average Time:', np.mean(times), 'sec')\n",
    "run_times_worst_s.append(np.mean(times))"
   ]
  },
  {
   "cell_type": "code",
   "execution_count": 22,
   "metadata": {},
   "outputs": [
    {
     "name": "stdout",
     "output_type": "stream",
     "text": [
      "5000 elements: randomly permuted\n",
      "Average Time: 0.6901715364462385 sec\n",
      "5000 elements: Sorted in Order\n",
      "Average Time: 0.6885464199973891 sec\n",
      "5000 elements: Sorted in Reverse\n",
      "Average Time: 0.7164723892540982 sec\n"
     ]
    }
   ],
   "source": [
    "# 5000 elements\n",
    "times = []\n",
    "for i in range(n_trials):\n",
    "    lst2 = l5000_p[:] # copying the input list so we don't modify it\n",
    "    random.shuffle(lst2); # Shuffling the list so the average is over 3 different permutations\n",
    "    start = time.perf_counter()\n",
    "    selection_sort(lst2)\n",
    "    end = time.perf_counter()\n",
    "    elapsed = end - start\n",
    "    times.append(elapsed)\n",
    "print('5000 elements: randomly permuted')\n",
    "print('Average Time:', np.mean(times), 'sec')\n",
    "run_times_average_s.append(np.mean(times))\n",
    "\n",
    "times = []\n",
    "for i in range(n_trials):\n",
    "    lst2 = l5000_o[:] # copying the input list so we don't modify it\n",
    "    start = time.perf_counter()\n",
    "    selection_sort(lst2)\n",
    "    end = time.perf_counter()\n",
    "    elapsed = end - start\n",
    "    times.append(elapsed)\n",
    "print('5000 elements: Sorted in Order')\n",
    "print('Average Time:', np.mean(times), 'sec')\n",
    "run_times_best_s.append(np.mean(times))\n",
    "\n",
    "times = []\n",
    "for i in range(n_trials):\n",
    "    lst2 = l5000_r[:] # copying the input list so we don't modify it\n",
    "    start = time.perf_counter()\n",
    "    selection_sort(lst2)\n",
    "    end = time.perf_counter()\n",
    "    elapsed = end - start\n",
    "    times.append(elapsed)\n",
    "print('5000 elements: Sorted in Reverse')\n",
    "print('Average Time:', np.mean(times), 'sec')\n",
    "run_times_worst_s.append(np.mean(times))"
   ]
  },
  {
   "cell_type": "code",
   "execution_count": 23,
   "metadata": {},
   "outputs": [
    {
     "name": "stdout",
     "output_type": "stream",
     "text": [
      "10000 elements: randomly permuted\n",
      "Average Time: 2.7626505060276636 sec\n",
      "10000 elements: Sorted in Order\n",
      "Average Time: 2.752296094006548 sec\n",
      "10000 elements: Sorted in Reverse\n",
      "Average Time: 2.8360447906112918 sec\n"
     ]
    }
   ],
   "source": [
    "# 10,000 elements\n",
    "times = []\n",
    "for i in range(n_trials):\n",
    "    lst2 = l10000_p[:] # copying the input list so we don't modify it\n",
    "    random.shuffle(lst2); # Shuffling the list so the average is over 3 different permutations\n",
    "    start = time.perf_counter()\n",
    "    selection_sort(lst2)\n",
    "    end = time.perf_counter()\n",
    "    elapsed = end - start\n",
    "    times.append(elapsed)\n",
    "print('10000 elements: randomly permuted')\n",
    "print('Average Time:', np.mean(times), 'sec')\n",
    "run_times_average_s.append(np.mean(times))\n",
    "\n",
    "times = []\n",
    "for i in range(n_trials):\n",
    "    lst2 = l10000_o[:] # copying the input list so we don't modify it\n",
    "    start = time.perf_counter()\n",
    "    selection_sort(lst2)\n",
    "    end = time.perf_counter()\n",
    "    elapsed = end - start\n",
    "    times.append(elapsed)\n",
    "print('10000 elements: Sorted in Order')\n",
    "print('Average Time:', np.mean(times), 'sec')\n",
    "run_times_best_s.append(np.mean(times))\n",
    "\n",
    "times = []\n",
    "for i in range(n_trials):\n",
    "    lst2 = l10000_r[:] # copying the input list so we don't modify it\n",
    "    start = time.perf_counter()\n",
    "    selection_sort(lst2)\n",
    "    end = time.perf_counter()\n",
    "    elapsed = end - start\n",
    "    times.append(elapsed)\n",
    "print('10000 elements: Sorted in Reverse')\n",
    "print('Average Time:', np.mean(times), 'sec')\n",
    "run_times_worst_s.append(np.mean(times))"
   ]
  },
  {
   "cell_type": "code",
   "execution_count": 24,
   "metadata": {},
   "outputs": [
    {
     "name": "stdout",
     "output_type": "stream",
     "text": [
      "25000 elements: randomly permuted\n",
      "Average Time: 17.22596439400998 sec\n",
      "25000 elements: Sorted in Order\n",
      "Average Time: 17.336456394366298 sec\n",
      "25000 elements: Sorted in Reverse\n",
      "Average Time: 17.957872592688847 sec\n"
     ]
    }
   ],
   "source": [
    "# 25,000 elements\n",
    "times = []\n",
    "for i in range(n_trials):\n",
    "    lst2 = l25000_p[:] # copying the input list so we don't modify it\n",
    "    random.shuffle(lst2); # Shuffling the list so the average is over 3 different permutations\n",
    "    start = time.perf_counter()\n",
    "    selection_sort(lst2)\n",
    "    end = time.perf_counter()\n",
    "    elapsed = end - start\n",
    "    times.append(elapsed)\n",
    "print('25000 elements: randomly permuted')\n",
    "print('Average Time:', np.mean(times), 'sec')\n",
    "run_times_average_s.append(np.mean(times))\n",
    "\n",
    "times = []\n",
    "for i in range(n_trials):\n",
    "    lst2 = l25000_o[:] # copying the input list so we don't modify it\n",
    "    start = time.perf_counter()\n",
    "    selection_sort(lst2)\n",
    "    end = time.perf_counter()\n",
    "    elapsed = end - start\n",
    "    times.append(elapsed)\n",
    "print('25000 elements: Sorted in Order')\n",
    "print('Average Time:', np.mean(times), 'sec')\n",
    "run_times_best_s.append(np.mean(times))\n",
    "\n",
    "times = []\n",
    "for i in range(n_trials):\n",
    "    lst2 = l25000_r[:] # copying the input list so we don't modify it\n",
    "    start = time.perf_counter()\n",
    "    selection_sort(lst2)\n",
    "    end = time.perf_counter()\n",
    "    elapsed = end - start\n",
    "    times.append(elapsed)\n",
    "print('25000 elements: Sorted in Reverse')\n",
    "print('Average Time:', np.mean(times), 'sec')\n",
    "run_times_worst_s.append(np.mean(times))"
   ]
  },
  {
   "cell_type": "code",
   "execution_count": 25,
   "metadata": {},
   "outputs": [
    {
     "name": "stdout",
     "output_type": "stream",
     "text": [
      "50000 elements: randomly permuted\n",
      "Average Time: 78.33756884311636 sec\n",
      "50000 elements: Sorted in Order\n",
      "Average Time: 78.60186078663294 sec\n",
      "50000 elements: Sorted in Reverse\n",
      "Average Time: 81.05701429637459 sec\n"
     ]
    }
   ],
   "source": [
    "# 50,000 elements\n",
    "times = []\n",
    "for i in range(n_trials):\n",
    "    lst2 = l50000_p[:] # copying the input list so we don't modify it\n",
    "    random.shuffle(lst2); # Shuffling the list so the average is over 3 different permutations\n",
    "    start = time.perf_counter()\n",
    "    selection_sort(lst2)\n",
    "    end = time.perf_counter()\n",
    "    elapsed = end - start\n",
    "    times.append(elapsed)\n",
    "print('50000 elements: randomly permuted')\n",
    "print('Average Time:', np.mean(times), 'sec')\n",
    "run_times_average_s.append(np.mean(times))\n",
    "\n",
    "times = []\n",
    "for i in range(n_trials):\n",
    "    lst2 = l50000_o[:] # copying the input list so we don't modify it\n",
    "    start = time.perf_counter()\n",
    "    selection_sort(lst2)\n",
    "    end = time.perf_counter()\n",
    "    elapsed = end - start\n",
    "    times.append(elapsed)\n",
    "print('50000 elements: Sorted in Order')\n",
    "print('Average Time:', np.mean(times), 'sec')\n",
    "run_times_best_s.append(np.mean(times))\n",
    "\n",
    "times = []\n",
    "for i in range(n_trials):\n",
    "    lst2 = l50000_r[:] # copying the input list so we don't modify it\n",
    "    start = time.perf_counter()\n",
    "    selection_sort(lst2)\n",
    "    end = time.perf_counter()\n",
    "    elapsed = end - start\n",
    "    times.append(elapsed)\n",
    "print('50000 elements: Sorted in Reverse')\n",
    "print('Average Time:', np.mean(times), 'sec')\n",
    "run_times_worst_s.append(np.mean(times))"
   ]
  },
  {
   "cell_type": "markdown",
   "metadata": {},
   "source": [
    "### Plotting the Benchmarked Run Times"
   ]
  },
  {
   "cell_type": "markdown",
   "metadata": {},
   "source": [
    "Creating one plot for each of the two algorithms with all three cases on them."
   ]
  },
  {
   "cell_type": "code",
   "execution_count": 26,
   "metadata": {},
   "outputs": [],
   "source": [
    "list_sizes = [1000, 2500, 5000, 10000, 25000, 50000]"
   ]
  },
  {
   "cell_type": "code",
   "execution_count": 27,
   "metadata": {},
   "outputs": [
    {
     "data": {
      "image/png": "[encoded data removed]",
      "text/plain": [
       "<Figure size 432x288 with 1 Axes>"
      ]
     },
     "metadata": {
      "needs_background": "light"
     },
     "output_type": "display_data"
    }
   ],
   "source": [
    "plt.plot(list_sizes, run_times_best_i, label=\"best\")\n",
    "plt.plot(list_sizes, run_times_average_i, label=\"average\")\n",
    "plt.plot(list_sizes, run_times_worst_i, label=\"worst\")\n",
    "plt.xlabel(\"List Size\", fontsize=18)\n",
    "plt.ylabel(\"Run Time (s)\", fontsize=18)\n",
    "plt.title(\"Insertion Sort\", fontsize=20)\n",
    "plt.legend();"
   ]
  },
  {
   "cell_type": "code",
   "execution_count": 28,
   "metadata": {},
   "outputs": [
    {
     "data": {
      "image/png": "[encoded data removed]",
      "text/plain": [
       "<Figure size 432x288 with 1 Axes>"
      ]
     },
     "metadata": {
      "needs_background": "light"
     },
     "output_type": "display_data"
    }
   ],
   "source": [
    "plt.plot(list_sizes, run_times_best_s, label=\"best\")\n",
    "plt.plot(list_sizes, run_times_average_s, label=\"average\")\n",
    "plt.plot(list_sizes, run_times_worst_s, label=\"worst\")\n",
    "plt.xlabel(\"List Size\", fontsize=18)\n",
    "plt.ylabel(\"Run Time (s)\", fontsize=18)\n",
    "plt.title(\"Selection Sort\", fontsize=20)\n",
    "plt.legend();"
   ]
  },
  {
   "cell_type": "markdown",
   "metadata": {},
   "source": [
    "Creating one plot for each case."
   ]
  },
  {
   "cell_type": "code",
   "execution_count": 29,
   "metadata": {},
   "outputs": [
    {
     "data": {
      "image/png": "[encoded data removed]",
      "text/plain": [
       "<Figure size 432x288 with 1 Axes>"
      ]
     },
     "metadata": {
      "needs_background": "light"
     },
     "output_type": "display_data"
    }
   ],
   "source": [
    "plt.plot(list_sizes, run_times_best_s, label=\"selection sort\")\n",
    "plt.plot(list_sizes, run_times_best_i, label=\"insertion sort\")\n",
    "plt.xlabel(\"List Size\", fontsize=18)\n",
    "plt.ylabel(\"Run Time (s)\", fontsize=18)\n",
    "plt.title(\"Best Case (Sorted Order)\", fontsize=20)\n",
    "plt.legend();"
   ]
  },
  {
   "cell_type": "code",
   "execution_count": 30,
   "metadata": {},
   "outputs": [
    {
     "data": {
      "image/png": "[encoded data removed]",
      "text/plain": [
       "<Figure size 432x288 with 1 Axes>"
      ]
     },
     "metadata": {
      "needs_background": "light"
     },
     "output_type": "display_data"
    }
   ],
   "source": [
    "plt.plot(list_sizes, run_times_average_s, label=\"selection sort\")\n",
    "plt.plot(list_sizes, run_times_average_i, label=\"insertion sort\")\n",
    "plt.xlabel(\"List Size\", fontsize=18)\n",
    "plt.ylabel(\"Run Time (s)\", fontsize=18)\n",
    "plt.title(\"Average Case (Random Permutation)\", fontsize=20)\n",
    "plt.legend();"
   ]
  },
  {
   "cell_type": "code",
   "execution_count": 31,
   "metadata": {},
   "outputs": [
    {
     "data": {
      "image/png": "[encoded data removed]",
      "text/plain": [
       "<Figure size 432x288 with 1 Axes>"
      ]
     },
     "metadata": {
      "needs_background": "light"
     },
     "output_type": "display_data"
    }
   ],
   "source": [
    "plt.plot(list_sizes, run_times_worst_s, label=\"selection sort\")\n",
    "plt.plot(list_sizes, run_times_worst_i, label=\"insertion sort\")\n",
    "plt.xlabel(\"List Size\", fontsize=18)\n",
    "plt.ylabel(\"Run Time (s)\", fontsize=18)\n",
    "plt.title(\"Worst Case (Reverse Order)\", fontsize=20)\n",
    "plt.legend();"
   ]
  },
  {
   "cell_type": "markdown",
   "metadata": {},
   "source": [
    "### Reflection Questions"
   ]
  },
  {
   "cell_type": "markdown",
   "metadata": {},
   "source": [
    "1) There were substantial differences between the run times of the three cases for insertion sort. The best case (already sorted) was the fastest by far."
   ]
  },
  {
   "cell_type": "markdown",
   "metadata": {},
   "source": [
    "2) There were not substantial differences between the run times of the three cases for selection sort."
   ]
  },
  {
   "cell_type": "markdown",
   "metadata": {},
   "source": [
    "3)"
   ]
  },
  {
   "cell_type": "markdown",
   "metadata": {},
   "source": [
    "| | Insertion Sort | Selection Sort |\n",
    "| -- | -- | -- |\n",
    "| Best Case | O(n) | O(n^2) |\n",
    "| Average Case | O(n^2) | O(n^2) |\n",
    "| Worst Case | O(n^2) | O(n^2) |"
   ]
  },
  {
   "cell_type": "markdown",
   "metadata": {},
   "source": [
    "4) One case is significantly faster than the others for insertion sort because there is a while loop within insertion sort. In the best case scenario, the while loop is never true so no values have to be shifted. In selection sort, the inner loop is a for loop which checks every value past the current value for the smallest value. It doesn't matter if the list is already in order, it still checks every next value for every loop."
   ]
  },
  {
   "cell_type": "markdown",
   "metadata": {},
   "source": [
    "5) Based on my results, I would use selection sort in practice. It runs in a consistent amount of time for all cases so it can be easily predicted how long it will take. Also, if I am needing to sort data in practice, it is likely that that data is not ordered currently, so insertion sort would be unlikely to perform significantly better."
   ]
  },
  {
   "cell_type": "markdown",
   "metadata": {},
   "source": [
    "### Conclusion"
   ]
  },
  {
   "cell_type": "markdown",
   "metadata": {},
   "source": [
    "The benchmarking above provided valuable insights into the time complexities of insertion and selection sort. Insertion sort performs better on data that is closer to already being sorted and performs worse on data that is closer to reverse sorted order. Selection sort sorts data in basically the same amount of time no matter the order.\n",
    "\n",
    "However, both sorting algorithms are O(n^2). If you were looking to actually sort data better you could just call the sort() method in python, which uses Timsort under the hood, which is O(nlogn) and so is much quicker."
   ]
  }
 ],
 "metadata": {
  "kernelspec": {
   "display_name": "Python 3",
   "language": "python",
   "name": "python3"
  },
  "language_info": {
   "codemirror_mode": {
    "name": "ipython",
    "version": 3
   },
   "file_extension": ".py",
   "mimetype": "text/x-python",
   "name": "python",
   "nbconvert_exporter": "python",
   "pygments_lexer": "ipython3",
   "version": "3.8.3"
  }
 },
 "nbformat": 4,
 "nbformat_minor": 2
}
