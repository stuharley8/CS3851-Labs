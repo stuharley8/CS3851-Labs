{
 "cells": [
  {
   "cell_type": "markdown",
   "metadata": {},
   "source": [
    "# CS 3851 Algorithms - Lab 4: Heaps\n",
    "## Stuart Harley"
   ]
  },
  {
   "cell_type": "markdown",
   "metadata": {},
   "source": [
    "### Introduction"
   ]
  },
  {
   "cell_type": "markdown",
   "metadata": {},
   "source": [
    "In this lab we are implementing max-heaps and the associated functions max_heapify, build_max_heap, heapsort, insert, extract_max, and increase_key. We then benchmark the time it takes to build a heap using build_max_heap. We then benchmark the time it takes to build a heap by individually inserting each element to compare that to the time it took using build_max_heap. Finally we benchmark the time it takes to individually extract each element from a heap to compare that to the time it takes to individually insert each element.\n",
    "\n",
    "We show that building a heap all at once is faster than building a heap by individually inserting each element. We also show that inserting an element is on average faster than extracting the max element."
   ]
  },
  {
   "cell_type": "markdown",
   "metadata": {},
   "source": [
    "### Importing Libraries"
   ]
  },
  {
   "cell_type": "code",
   "execution_count": 1,
   "metadata": {},
   "outputs": [],
   "source": [
    "import matplotlib.pyplot as plt\n",
    "import numpy as np\n",
    "import random\n",
    "import time\n",
    "\n",
    "from heap import *\n",
    "from test_heap import *"
   ]
  },
  {
   "cell_type": "markdown",
   "metadata": {},
   "source": [
    "### Testing Implementation of Heaps"
   ]
  },
  {
   "cell_type": "code",
   "execution_count": 2,
   "metadata": {},
   "outputs": [
    {
     "name": "stdout",
     "output_type": "stream",
     "text": [
      "....\r\n",
      "----------------------------------------------------------------------\r\n",
      "Ran 4 tests in 0.000s\r\n",
      "\r\n",
      "OK\r\n"
     ]
    }
   ],
   "source": [
    "!python test_heap.py"
   ]
  },
  {
   "cell_type": "markdown",
   "metadata": {},
   "source": [
    "### Creating Lists to use for Benchmarking"
   ]
  },
  {
   "cell_type": "markdown",
   "metadata": {},
   "source": [
    "For benchmarking, we will evaluate 3 cases: list is already sorted, list is randomly permuted, and list is already sorted in reverse order."
   ]
  },
  {
   "cell_type": "markdown",
   "metadata": {},
   "source": [
    "Creating lists of 100, 1000, 10000, and 100000 numbers. Creating the lists from random numbers. Then shuffling them to generate a random permutation of the list or sorting them in regular/reverse order to create the desired cases."
   ]
  },
  {
   "cell_type": "markdown",
   "metadata": {},
   "source": [
    "_p, _o, _r refers to the list being randomly permutated, sorted in order, and sorted in reverse order respectively."
   ]
  },
  {
   "cell_type": "code",
   "execution_count": 3,
   "metadata": {},
   "outputs": [],
   "source": [
    "l100 = [random.random() for i in range(100)]\n",
    "random.shuffle(l100) # shuffling the list to generate a random permutation\n",
    "l100_p = l100[:]\n",
    "l100.sort() # sorting the list in order\n",
    "l100_o = l100[:]\n",
    "l100.sort(reverse=True) # sorting the list in reverse order\n",
    "l100_r = l100[:]"
   ]
  },
  {
   "cell_type": "code",
   "execution_count": 4,
   "metadata": {},
   "outputs": [],
   "source": [
    "l1000 = [random.random() for i in range(1000)]\n",
    "random.shuffle(l1000) # shuffling the list to generate a random permutation\n",
    "l1000_p = l1000[:]\n",
    "l1000.sort() # sorting the list in order\n",
    "l1000_o = l1000[:]\n",
    "l1000.sort(reverse=True) # sorting the list in reverse order\n",
    "l1000_r = l1000[:]"
   ]
  },
  {
   "cell_type": "code",
   "execution_count": 5,
   "metadata": {},
   "outputs": [],
   "source": [
    "l10000 = [random.random() for i in range(10000)]\n",
    "random.shuffle(l10000) # shuffling the list to generate a random permutation\n",
    "l10000_p = l10000[:]\n",
    "l10000.sort() # sorting the list in order\n",
    "l10000_o = l10000[:]\n",
    "l10000.sort(reverse=True) # sorting the list in reverse order\n",
    "l10000_r = l10000[:]"
   ]
  },
  {
   "cell_type": "code",
   "execution_count": 6,
   "metadata": {},
   "outputs": [],
   "source": [
    "l100000 = [random.random() for i in range(100000)]\n",
    "random.shuffle(l100000) # shuffling the list to generate a random permutation\n",
    "l100000_p = l100000[:]\n",
    "l100000.sort() # sorting the list in order\n",
    "l100000_o = l100000[:]\n",
    "l100000.sort(reverse=True) # sorting the list in reverse order\n",
    "l100000_r = l100000[:]"
   ]
  },
  {
   "cell_type": "markdown",
   "metadata": {},
   "source": [
    "### Benchmarking the Build_Max_Heap Function"
   ]
  },
  {
   "cell_type": "markdown",
   "metadata": {},
   "source": [
    "Within the heapsort algorithm, the first step is to call build_max_heap which internally using the max_heapify function to build the heap from a list. We are benchmarking the build_max_heap function in this section."
   ]
  },
  {
   "cell_type": "markdown",
   "metadata": {},
   "source": [
    "We are running each benchmark 10 times (trials)."
   ]
  },
  {
   "cell_type": "code",
   "execution_count": 7,
   "metadata": {},
   "outputs": [],
   "source": [
    "n_trials = 10\n",
    "run_times_best_b = []\n",
    "run_times_average_b = []\n",
    "run_times_worst_b = []"
   ]
  },
  {
   "cell_type": "code",
   "execution_count": 8,
   "metadata": {},
   "outputs": [
    {
     "name": "stdout",
     "output_type": "stream",
     "text": [
      "100 elements: randomly permuted\n",
      "Average Time: 7.566490385215729e-05 sec\n",
      "100 elements: Sorted in Order\n",
      "Average Time: 5.9246298042126e-05 sec\n",
      "100 elements: Sorted in Reverse\n",
      "Average Time: 4.301409935578704e-05 sec\n"
     ]
    }
   ],
   "source": [
    "# 100 elements\n",
    "times = []\n",
    "for i in range(n_trials):\n",
    "    lst2 = l100_p[:] # copying the input list so we don't modify it\n",
    "    start = time.perf_counter()\n",
    "    build_max_heap(lst2)\n",
    "    end = time.perf_counter()\n",
    "    elapsed = end - start\n",
    "    times.append(elapsed)\n",
    "print('100 elements: randomly permuted')\n",
    "print('Average Time:', np.mean(times), 'sec')\n",
    "run_times_average_b.append(np.mean(times))\n",
    "\n",
    "times = []\n",
    "for i in range(n_trials):\n",
    "    lst2 = l100_o[:] # copying the input list so we don't modify it\n",
    "    start = time.perf_counter()\n",
    "    build_max_heap(lst2)\n",
    "    end = time.perf_counter()\n",
    "    elapsed = end - start\n",
    "    times.append(elapsed)\n",
    "print('100 elements: Sorted in Order')\n",
    "print('Average Time:', np.mean(times), 'sec')\n",
    "run_times_best_b.append(np.mean(times))\n",
    "\n",
    "times = []\n",
    "for i in range(n_trials):\n",
    "    lst2 = l100_r[:] # copying the input list so we don't modify it\n",
    "    start = time.perf_counter()\n",
    "    build_max_heap(lst2)\n",
    "    end = time.perf_counter()\n",
    "    elapsed = end - start\n",
    "    times.append(elapsed)\n",
    "print('100 elements: Sorted in Reverse')\n",
    "print('Average Time:', np.mean(times), 'sec')\n",
    "run_times_worst_b.append(np.mean(times))"
   ]
  },
  {
   "cell_type": "code",
   "execution_count": 9,
   "metadata": {},
   "outputs": [
    {
     "name": "stdout",
     "output_type": "stream",
     "text": [
      "1000 elements: randomly permuted\n",
      "Average Time: 0.0009652703010942787 sec\n",
      "1000 elements: Sorted in Order\n",
      "Average Time: 0.0007216750032966957 sec\n",
      "1000 elements: Sorted in Reverse\n",
      "Average Time: 0.0002224027004558593 sec\n"
     ]
    }
   ],
   "source": [
    "# 1000 elements\n",
    "times = []\n",
    "for i in range(n_trials):\n",
    "    lst2 = l1000_p[:] # copying the input list so we don't modify it\n",
    "    start = time.perf_counter()\n",
    "    build_max_heap(lst2)\n",
    "    end = time.perf_counter()\n",
    "    elapsed = end - start\n",
    "    times.append(elapsed)\n",
    "print('1000 elements: randomly permuted')\n",
    "print('Average Time:', np.mean(times), 'sec')\n",
    "run_times_average_b.append(np.mean(times))\n",
    "\n",
    "times = []\n",
    "for i in range(n_trials):\n",
    "    lst2 = l1000_o[:] # copying the input list so we don't modify it\n",
    "    start = time.perf_counter()\n",
    "    build_max_heap(lst2)\n",
    "    end = time.perf_counter()\n",
    "    elapsed = end - start\n",
    "    times.append(elapsed)\n",
    "print('1000 elements: Sorted in Order')\n",
    "print('Average Time:', np.mean(times), 'sec')\n",
    "run_times_best_b.append(np.mean(times))\n",
    "\n",
    "times = []\n",
    "for i in range(n_trials):\n",
    "    lst2 = l1000_r[:] # copying the input list so we don't modify it\n",
    "    start = time.perf_counter()\n",
    "    build_max_heap(lst2)\n",
    "    end = time.perf_counter()\n",
    "    elapsed = end - start\n",
    "    times.append(elapsed)\n",
    "print('1000 elements: Sorted in Reverse')\n",
    "print('Average Time:', np.mean(times), 'sec')\n",
    "run_times_worst_b.append(np.mean(times))"
   ]
  },
  {
   "cell_type": "code",
   "execution_count": 10,
   "metadata": {},
   "outputs": [
    {
     "name": "stdout",
     "output_type": "stream",
     "text": [
      "10000 elements: randomly permuted\n",
      "Average Time: 0.006587520902394317 sec\n",
      "10000 elements: Sorted in Order\n",
      "Average Time: 0.007007107703248039 sec\n",
      "10000 elements: Sorted in Reverse\n",
      "Average Time: 0.002382382398354821 sec\n"
     ]
    }
   ],
   "source": [
    "# 10000 elements\n",
    "times = []\n",
    "for i in range(n_trials):\n",
    "    lst2 = l10000_p[:] # copying the input list so we don't modify it\n",
    "    start = time.perf_counter()\n",
    "    build_max_heap(lst2)\n",
    "    end = time.perf_counter()\n",
    "    elapsed = end - start\n",
    "    times.append(elapsed)\n",
    "print('10000 elements: randomly permuted')\n",
    "print('Average Time:', np.mean(times), 'sec')\n",
    "run_times_average_b.append(np.mean(times))\n",
    "\n",
    "times = []\n",
    "for i in range(n_trials):\n",
    "    lst2 = l10000_o[:] # copying the input list so we don't modify it\n",
    "    start = time.perf_counter()\n",
    "    build_max_heap(lst2)\n",
    "    end = time.perf_counter()\n",
    "    elapsed = end - start\n",
    "    times.append(elapsed)\n",
    "print('10000 elements: Sorted in Order')\n",
    "print('Average Time:', np.mean(times), 'sec')\n",
    "run_times_best_b.append(np.mean(times))\n",
    "\n",
    "times = []\n",
    "for i in range(n_trials):\n",
    "    lst2 = l10000_r[:] # copying the input list so we don't modify it\n",
    "    start = time.perf_counter()\n",
    "    build_max_heap(lst2)\n",
    "    end = time.perf_counter()\n",
    "    elapsed = end - start\n",
    "    times.append(elapsed)\n",
    "print('10000 elements: Sorted in Reverse')\n",
    "print('Average Time:', np.mean(times), 'sec')\n",
    "run_times_worst_b.append(np.mean(times))"
   ]
  },
  {
   "cell_type": "code",
   "execution_count": 11,
   "metadata": {},
   "outputs": [
    {
     "name": "stdout",
     "output_type": "stream",
     "text": [
      "100000 elements: randomly permuted\n",
      "Average Time: 0.07390777799882926 sec\n",
      "100000 elements: Sorted in Order\n",
      "Average Time: 0.08574449819861911 sec\n",
      "100000 elements: Sorted in Reverse\n",
      "Average Time: 0.027225346196792087 sec\n"
     ]
    }
   ],
   "source": [
    "# 100000 elements\n",
    "times = []\n",
    "for i in range(n_trials):\n",
    "    lst2 = l100000_p[:] # copying the input list so we don't modify it\n",
    "    start = time.perf_counter()\n",
    "    build_max_heap(lst2)\n",
    "    end = time.perf_counter()\n",
    "    elapsed = end - start\n",
    "    times.append(elapsed)\n",
    "print('100000 elements: randomly permuted')\n",
    "print('Average Time:', np.mean(times), 'sec')\n",
    "run_times_average_b.append(np.mean(times))\n",
    "\n",
    "times = []\n",
    "for i in range(n_trials):\n",
    "    lst2 = l100000_o[:] # copying the input list so we don't modify it\n",
    "    start = time.perf_counter()\n",
    "    build_max_heap(lst2)\n",
    "    end = time.perf_counter()\n",
    "    elapsed = end - start\n",
    "    times.append(elapsed)\n",
    "print('100000 elements: Sorted in Order')\n",
    "print('Average Time:', np.mean(times), 'sec')\n",
    "run_times_best_b.append(np.mean(times))\n",
    "\n",
    "times = []\n",
    "for i in range(n_trials):\n",
    "    lst2 = l100000_r[:] # copying the input list so we don't modify it\n",
    "    start = time.perf_counter()\n",
    "    build_max_heap(lst2)\n",
    "    end = time.perf_counter()\n",
    "    elapsed = end - start\n",
    "    times.append(elapsed)\n",
    "print('100000 elements: Sorted in Reverse')\n",
    "print('Average Time:', np.mean(times), 'sec')\n",
    "run_times_worst_b.append(np.mean(times))"
   ]
  },
  {
   "cell_type": "markdown",
   "metadata": {},
   "source": [
    "### Plotting the Benchmarked Run Times of Build_Max_Heap"
   ]
  },
  {
   "cell_type": "code",
   "execution_count": 12,
   "metadata": {},
   "outputs": [],
   "source": [
    "list_sizes = [100, 1000, 10000, 100000]"
   ]
  },
  {
   "cell_type": "code",
   "execution_count": 13,
   "metadata": {},
   "outputs": [
    {
     "data": {
      "image/png": "[encoded data removed]",
      "text/plain": [
       "<Figure size 432x288 with 1 Axes>"
      ]
     },
     "metadata": {
      "needs_background": "light"
     },
     "output_type": "display_data"
    }
   ],
   "source": [
    "plt.plot(list_sizes, run_times_best_b, label=\"best\")\n",
    "plt.plot(list_sizes, run_times_average_b, label=\"average\")\n",
    "plt.plot(list_sizes, run_times_worst_b, label=\"worst\")\n",
    "plt.xlabel(\"List Size\", fontsize=18)\n",
    "plt.ylabel(\"Run Time (s)\", fontsize=18)\n",
    "plt.title(\"Build_Max_Heap\", fontsize=20)\n",
    "plt.legend()\n",
    "plt.xscale('log')"
   ]
  },
  {
   "cell_type": "markdown",
   "metadata": {},
   "source": [
    "### Benchmarking Building the Heap by Inserting Each Element Individually"
   ]
  },
  {
   "cell_type": "markdown",
   "metadata": {},
   "source": [
    "Instead of calling heapsort and therefore using the build_max_heap and max_heapify functions to build the heap, we are inserting each element into the heap individually."
   ]
  },
  {
   "cell_type": "code",
   "execution_count": 14,
   "metadata": {},
   "outputs": [],
   "source": [
    "run_times_best_i = []\n",
    "run_times_average_i = []\n",
    "run_times_worst_i = []"
   ]
  },
  {
   "cell_type": "code",
   "execution_count": 15,
   "metadata": {},
   "outputs": [
    {
     "name": "stdout",
     "output_type": "stream",
     "text": [
      "100 elements: randomly permuted\n",
      "Average Time: 0.0002097948017762974 sec\n",
      "100 elements: Sorted in Order\n",
      "Average Time: 0.0004102754988707602 sec\n",
      "100 elements: Sorted in Reverse\n",
      "Average Time: 5.7606399059295656e-05 sec\n"
     ]
    }
   ],
   "source": [
    "# 100 elements\n",
    "times = []\n",
    "for i in range(n_trials):\n",
    "    lst2 = []\n",
    "    start = time.perf_counter()\n",
    "    for i in range(len(l100_p)):\n",
    "        max_heap_insert(lst2, l100_p[i])\n",
    "    end = time.perf_counter()\n",
    "    elapsed = end - start\n",
    "    times.append(elapsed)\n",
    "print('100 elements: randomly permuted')\n",
    "print('Average Time:', np.mean(times), 'sec')\n",
    "run_times_average_i.append(np.mean(times))\n",
    "\n",
    "times = []\n",
    "for i in range(n_trials):\n",
    "    lst2 = []\n",
    "    start = time.perf_counter()\n",
    "    for i in range(len(l100_o)):\n",
    "        max_heap_insert(lst2, l100_o[i])\n",
    "    end = time.perf_counter()\n",
    "    elapsed = end - start\n",
    "    times.append(elapsed)\n",
    "print('100 elements: Sorted in Order')\n",
    "print('Average Time:', np.mean(times), 'sec')\n",
    "run_times_best_i.append(np.mean(times))\n",
    "\n",
    "times = []\n",
    "for i in range(n_trials):\n",
    "    lst2 = []\n",
    "    start = time.perf_counter()\n",
    "    for i in range(len(l100_r)):\n",
    "        max_heap_insert(lst2, l100_r[i])\n",
    "    end = time.perf_counter()\n",
    "    elapsed = end - start\n",
    "    times.append(elapsed)\n",
    "print('100 elements: Sorted in Reverse')\n",
    "print('Average Time:', np.mean(times), 'sec')\n",
    "run_times_worst_i.append(np.mean(times))"
   ]
  },
  {
   "cell_type": "code",
   "execution_count": 16,
   "metadata": {},
   "outputs": [
    {
     "name": "stdout",
     "output_type": "stream",
     "text": [
      "1000 elements: randomly permuted\n",
      "Average Time: 0.0028093932080082594 sec\n",
      "1000 elements: Sorted in Order\n",
      "Average Time: 0.006551173198386095 sec\n",
      "1000 elements: Sorted in Reverse\n",
      "Average Time: 0.0006425094994483516 sec\n"
     ]
    }
   ],
   "source": [
    "# 1000 elements\n",
    "times = []\n",
    "for i in range(n_trials):\n",
    "    lst2 = []\n",
    "    start = time.perf_counter()\n",
    "    for i in range(len(l1000_p)):\n",
    "        max_heap_insert(lst2, l1000_p[i])\n",
    "    end = time.perf_counter()\n",
    "    elapsed = end - start\n",
    "    times.append(elapsed)\n",
    "print('1000 elements: randomly permuted')\n",
    "print('Average Time:', np.mean(times), 'sec')\n",
    "run_times_average_i.append(np.mean(times))\n",
    "\n",
    "times = []\n",
    "for i in range(n_trials):\n",
    "    lst2 = []\n",
    "    start = time.perf_counter()\n",
    "    for i in range(len(l1000_o)):\n",
    "        max_heap_insert(lst2, l1000_o[i])\n",
    "    end = time.perf_counter()\n",
    "    elapsed = end - start\n",
    "    times.append(elapsed)\n",
    "print('1000 elements: Sorted in Order')\n",
    "print('Average Time:', np.mean(times), 'sec')\n",
    "run_times_best_i.append(np.mean(times))\n",
    "\n",
    "times = []\n",
    "for i in range(n_trials):\n",
    "    lst2 = []\n",
    "    start = time.perf_counter()\n",
    "    for i in range(len(l1000_r)):\n",
    "        max_heap_insert(lst2, l1000_r[i])\n",
    "    end = time.perf_counter()\n",
    "    elapsed = end - start\n",
    "    times.append(elapsed)\n",
    "print('1000 elements: Sorted in Reverse')\n",
    "print('Average Time:', np.mean(times), 'sec')\n",
    "run_times_worst_i.append(np.mean(times))"
   ]
  },
  {
   "cell_type": "code",
   "execution_count": 17,
   "metadata": {},
   "outputs": [
    {
     "name": "stdout",
     "output_type": "stream",
     "text": [
      "10000 elements: randomly permuted\n",
      "Average Time: 0.017722812999272718 sec\n",
      "10000 elements: Sorted in Order\n",
      "Average Time: 0.0944838326977333 sec\n",
      "10000 elements: Sorted in Reverse\n",
      "Average Time: 0.0065598061948549 sec\n"
     ]
    }
   ],
   "source": [
    "# 10000 elements\n",
    "times = []\n",
    "for i in range(n_trials):\n",
    "    lst2 = []\n",
    "    start = time.perf_counter()\n",
    "    for i in range(len(l10000_p)):\n",
    "        max_heap_insert(lst2, l10000_p[i])\n",
    "    end = time.perf_counter()\n",
    "    elapsed = end - start\n",
    "    times.append(elapsed)\n",
    "print('10000 elements: randomly permuted')\n",
    "print('Average Time:', np.mean(times), 'sec')\n",
    "run_times_average_i.append(np.mean(times))\n",
    "\n",
    "times = []\n",
    "for i in range(n_trials):\n",
    "    lst2 = []\n",
    "    start = time.perf_counter()\n",
    "    for i in range(len(l10000_o)):\n",
    "        max_heap_insert(lst2, l10000_o[i])\n",
    "    end = time.perf_counter()\n",
    "    elapsed = end - start\n",
    "    times.append(elapsed)\n",
    "print('10000 elements: Sorted in Order')\n",
    "print('Average Time:', np.mean(times), 'sec')\n",
    "run_times_best_i.append(np.mean(times))\n",
    "\n",
    "times = []\n",
    "for i in range(n_trials):\n",
    "    lst2 = []\n",
    "    start = time.perf_counter()\n",
    "    for i in range(len(l10000_r)):\n",
    "        max_heap_insert(lst2, l10000_r[i])\n",
    "    end = time.perf_counter()\n",
    "    elapsed = end - start\n",
    "    times.append(elapsed)\n",
    "print('10000 elements: Sorted in Reverse')\n",
    "print('Average Time:', np.mean(times), 'sec')\n",
    "run_times_worst_i.append(np.mean(times))"
   ]
  },
  {
   "cell_type": "code",
   "execution_count": 18,
   "metadata": {},
   "outputs": [
    {
     "name": "stdout",
     "output_type": "stream",
     "text": [
      "100000 elements: randomly permuted\n",
      "Average Time: 0.19317745179287157 sec\n",
      "100000 elements: Sorted in Order\n",
      "Average Time: 1.2169948480965105 sec\n",
      "100000 elements: Sorted in Reverse\n",
      "Average Time: 0.076445330894785 sec\n"
     ]
    }
   ],
   "source": [
    "# 100000 elements\n",
    "times = []\n",
    "for i in range(n_trials):\n",
    "    lst2 = []\n",
    "    start = time.perf_counter()\n",
    "    for i in range(len(l100000_p)):\n",
    "        max_heap_insert(lst2, l100000_p[i])\n",
    "    end = time.perf_counter()\n",
    "    elapsed = end - start\n",
    "    times.append(elapsed)\n",
    "print('100000 elements: randomly permuted')\n",
    "print('Average Time:', np.mean(times), 'sec')\n",
    "run_times_average_i.append(np.mean(times))\n",
    "\n",
    "times = []\n",
    "for i in range(n_trials):\n",
    "    lst2 = []\n",
    "    start = time.perf_counter()\n",
    "    for i in range(len(l100000_o)):\n",
    "        max_heap_insert(lst2, l100000_o[i])\n",
    "    end = time.perf_counter()\n",
    "    elapsed = end - start\n",
    "    times.append(elapsed)\n",
    "print('100000 elements: Sorted in Order')\n",
    "print('Average Time:', np.mean(times), 'sec')\n",
    "run_times_best_i.append(np.mean(times))\n",
    "\n",
    "times = []\n",
    "for i in range(n_trials):\n",
    "    lst2 = []\n",
    "    start = time.perf_counter()\n",
    "    for i in range(len(l100000_r)):\n",
    "        max_heap_insert(lst2, l100000_r[i])\n",
    "    end = time.perf_counter()\n",
    "    elapsed = end - start\n",
    "    times.append(elapsed)\n",
    "print('100000 elements: Sorted in Reverse')\n",
    "print('Average Time:', np.mean(times), 'sec')\n",
    "run_times_worst_i.append(np.mean(times))"
   ]
  },
  {
   "cell_type": "markdown",
   "metadata": {},
   "source": [
    "### Plotting the Benchmarked Run Times of Build_Max_Heap vs. Building the Heap by Inserting Each Element Individually"
   ]
  },
  {
   "cell_type": "markdown",
   "metadata": {},
   "source": [
    "First plotting all the cases of individually adding the elements to the heap to visualize the difference between the 3 cases."
   ]
  },
  {
   "cell_type": "code",
   "execution_count": 19,
   "metadata": {},
   "outputs": [
    {
     "data": {
      "image/png": "[encoded data removed]",
      "text/plain": [
       "<Figure size 432x288 with 1 Axes>"
      ]
     },
     "metadata": {
      "needs_background": "light"
     },
     "output_type": "display_data"
    }
   ],
   "source": [
    "plt.plot(list_sizes, run_times_best_i, label=\"best\")\n",
    "plt.plot(list_sizes, run_times_average_i, label=\"average\")\n",
    "plt.plot(list_sizes, run_times_worst_i, label=\"worst\")\n",
    "plt.xlabel(\"List Size\", fontsize=18)\n",
    "plt.ylabel(\"Run Time (s)\", fontsize=18)\n",
    "plt.title(\"Building by Individually Inserting\", fontsize=20)\n",
    "plt.legend()\n",
    "plt.xscale('log')"
   ]
  },
  {
   "cell_type": "markdown",
   "metadata": {},
   "source": [
    "Creating one plot for each case comparing build_max_heap and building the heap by inserting each element individually."
   ]
  },
  {
   "cell_type": "code",
   "execution_count": 20,
   "metadata": {},
   "outputs": [
    {
     "data": {
      "image/png": "[encoded data removed]",
      "text/plain": [
       "<Figure size 432x288 with 1 Axes>"
      ]
     },
     "metadata": {
      "needs_background": "light"
     },
     "output_type": "display_data"
    }
   ],
   "source": [
    "plt.plot(list_sizes, run_times_best_b, label=\"build_max_heap\")\n",
    "plt.plot(list_sizes, run_times_best_i, label=\"individually\")\n",
    "plt.xlabel(\"List Size\", fontsize=18)\n",
    "plt.ylabel(\"Run Time (s)\", fontsize=18)\n",
    "plt.title(\"Best Case (Sorted Order)\", fontsize=20)\n",
    "plt.legend()\n",
    "plt.xscale('log')"
   ]
  },
  {
   "cell_type": "code",
   "execution_count": 21,
   "metadata": {},
   "outputs": [
    {
     "data": {
      "image/png": "[encoded data removed]",
      "text/plain": [
       "<Figure size 432x288 with 1 Axes>"
      ]
     },
     "metadata": {
      "needs_background": "light"
     },
     "output_type": "display_data"
    }
   ],
   "source": [
    "plt.plot(list_sizes, run_times_average_b, label=\"build_max_heap\")\n",
    "plt.plot(list_sizes, run_times_average_i, label=\"individually\")\n",
    "plt.xlabel(\"List Size\", fontsize=18)\n",
    "plt.ylabel(\"Run Time (s)\", fontsize=18)\n",
    "plt.title(\"Average Case (Random Permutation)\", fontsize=20)\n",
    "plt.legend()\n",
    "plt.xscale('log')"
   ]
  },
  {
   "cell_type": "code",
   "execution_count": 22,
   "metadata": {},
   "outputs": [
    {
     "data": {
      "image/png": "[encoded data removed]",
      "text/plain": [
       "<Figure size 432x288 with 1 Axes>"
      ]
     },
     "metadata": {
      "needs_background": "light"
     },
     "output_type": "display_data"
    }
   ],
   "source": [
    "plt.plot(list_sizes, run_times_worst_b, label=\"build_max_heap\")\n",
    "plt.plot(list_sizes, run_times_worst_i, label=\"individually\")\n",
    "plt.xlabel(\"List Size\", fontsize=18)\n",
    "plt.ylabel(\"Run Time (s)\", fontsize=18)\n",
    "plt.title(\"Worst Case (Reverse Order)\", fontsize=20)\n",
    "plt.legend()\n",
    "plt.xscale('log')"
   ]
  },
  {
   "cell_type": "markdown",
   "metadata": {},
   "source": [
    "### Benchmarking the Run Time of Extraction"
   ]
  },
  {
   "cell_type": "markdown",
   "metadata": {},
   "source": [
    "Building heaps using the build_max_heap function, then benchmarking the time it takes to extract every element from the heap."
   ]
  },
  {
   "cell_type": "code",
   "execution_count": 23,
   "metadata": {},
   "outputs": [],
   "source": [
    "run_times_e = []"
   ]
  },
  {
   "cell_type": "code",
   "execution_count": 24,
   "metadata": {},
   "outputs": [
    {
     "name": "stdout",
     "output_type": "stream",
     "text": [
      "100 elements: randomly permuted\n",
      "Average Time: 0.0003647240024292842 sec\n"
     ]
    }
   ],
   "source": [
    "# 100 elements\n",
    "times = []\n",
    "for i in range(n_trials):\n",
    "    lst2 = l100_p[:] # copying the input list so we don't modify it\n",
    "    build_max_heap(lst2)\n",
    "    start = time.perf_counter()\n",
    "    for i in range(len(l100_p)):\n",
    "        heap_extract_max(lst2)\n",
    "    end = time.perf_counter()\n",
    "    elapsed = end - start\n",
    "    times.append(elapsed)\n",
    "print('100 elements: randomly permuted')\n",
    "print('Average Time:', np.mean(times), 'sec')\n",
    "run_times_e.append(np.mean(times))"
   ]
  },
  {
   "cell_type": "code",
   "execution_count": 25,
   "metadata": {},
   "outputs": [
    {
     "name": "stdout",
     "output_type": "stream",
     "text": [
      "1000 elements: randomly permuted\n",
      "Average Time: 0.004385412501869723 sec\n"
     ]
    }
   ],
   "source": [
    "# 1000 elements\n",
    "times = []\n",
    "for i in range(n_trials):\n",
    "    lst2 = l1000_p[:] # copying the input list so we don't modify it\n",
    "    build_max_heap(lst2)\n",
    "    start = time.perf_counter()\n",
    "    for i in range(len(l1000_p)):\n",
    "        heap_extract_max(lst2)\n",
    "    end = time.perf_counter()\n",
    "    elapsed = end - start\n",
    "    times.append(elapsed)\n",
    "print('1000 elements: randomly permuted')\n",
    "print('Average Time:', np.mean(times), 'sec')\n",
    "run_times_e.append(np.mean(times))"
   ]
  },
  {
   "cell_type": "code",
   "execution_count": 26,
   "metadata": {},
   "outputs": [
    {
     "name": "stdout",
     "output_type": "stream",
     "text": [
      "10000 elements: randomly permuted\n",
      "Average Time: 0.06174333980306983 sec\n"
     ]
    }
   ],
   "source": [
    "# 10000 elements\n",
    "times = []\n",
    "for i in range(n_trials):\n",
    "    lst2 = l10000_p[:] # copying the input list so we don't modify it\n",
    "    build_max_heap(lst2)\n",
    "    start = time.perf_counter()\n",
    "    for i in range(len(l10000_p)):\n",
    "        heap_extract_max(lst2)\n",
    "    end = time.perf_counter()\n",
    "    elapsed = end - start\n",
    "    times.append(elapsed)\n",
    "print('10000 elements: randomly permuted')\n",
    "print('Average Time:', np.mean(times), 'sec')\n",
    "run_times_e.append(np.mean(times))"
   ]
  },
  {
   "cell_type": "code",
   "execution_count": 27,
   "metadata": {},
   "outputs": [
    {
     "name": "stdout",
     "output_type": "stream",
     "text": [
      "100000 elements: randomly permuted\n",
      "Average Time: 0.8621004673012067 sec\n"
     ]
    }
   ],
   "source": [
    "# 100000 elements\n",
    "times = []\n",
    "for i in range(n_trials):\n",
    "    lst2 = l100000_p[:] # copying the input list so we don't modify it\n",
    "    build_max_heap(lst2)\n",
    "    start = time.perf_counter()\n",
    "    for i in range(len(l100000_p)):\n",
    "        heap_extract_max(lst2)\n",
    "    end = time.perf_counter()\n",
    "    elapsed = end - start\n",
    "    times.append(elapsed)\n",
    "print('100000 elements: randomly permuted')\n",
    "print('Average Time:', np.mean(times), 'sec')\n",
    "run_times_e.append(np.mean(times))"
   ]
  },
  {
   "cell_type": "markdown",
   "metadata": {},
   "source": [
    "### Plotting the Run Times of Inserting Each Element Individually vs Extracting Each Element Individually"
   ]
  },
  {
   "cell_type": "markdown",
   "metadata": {},
   "source": [
    "In this comparison we use the average case of inserting each element individually since that is the average run time that would occur."
   ]
  },
  {
   "cell_type": "code",
   "execution_count": 28,
   "metadata": {},
   "outputs": [
    {
     "data": {
      "image/png": "[encoded data removed]",
      "text/plain": [
       "<Figure size 432x288 with 1 Axes>"
      ]
     },
     "metadata": {
      "needs_background": "light"
     },
     "output_type": "display_data"
    }
   ],
   "source": [
    "plt.plot(list_sizes, run_times_e, label=\"Extract\")\n",
    "plt.plot(list_sizes, run_times_average_i, label=\"Insert\")\n",
    "plt.xlabel(\"List Size\", fontsize=18)\n",
    "plt.ylabel(\"Run Time (s)\", fontsize=18)\n",
    "plt.title(\"Individually Inserting/Extracting\", fontsize=20)\n",
    "plt.legend()\n",
    "plt.xscale('log')"
   ]
  },
  {
   "cell_type": "markdown",
   "metadata": {},
   "source": [
    "### Reflection Questions"
   ]
  },
  {
   "cell_type": "markdown",
   "metadata": {},
   "source": [
    "1) Heap creation varied between the 3 cases in both build_max_heap and when inserting individually; best (sorted in order), average (random permutation), and worst (reverse order). As expected, the average case was in the middle but the \"best\" case was actually the worst and the \"worst\" case was actually the best."
   ]
  },
  {
   "cell_type": "markdown",
   "metadata": {},
   "source": [
    "2) The best case for creating the heap (\"worst\" case: reverse sorted order) performed the best because of the way heaps are created. Heaps are formed with the smallest values at the bottom and the largest at the top. Therefore, when the list is in reverse sorted order, all of the numbers are already in a valid location for a max-heap."
   ]
  },
  {
   "cell_type": "markdown",
   "metadata": {},
   "source": [
    "3) Building a heap all at once is more efficient that inserting one at a time. When building a heap all at one time, when only have to perform a max_heapify call on half (n/2) of the elements; all those that are not leaf elements. Once you are done, the entire heap will be in a correct order. When you insert each element individually, you have to balance the heap every (n) time(s)."
   ]
  },
  {
   "cell_type": "markdown",
   "metadata": {},
   "source": [
    "4) Inserting an element is faster than extracting an element in a heap. When inserting an element, there is a chance the element you are inserting will already be in a valid location. Or maybe you only need to shift it by a couple of rows rather than send it all the way to the top of the heap. However, when you extract an element from the heap, because you are switching it with the last element in the heap, that element is most likely going to have to be sent all the way back down to the bottom row of the heap. So you end up having to perform more switches on average than when inserting."
   ]
  },
  {
   "cell_type": "markdown",
   "metadata": {},
   "source": [
    "### Conclusion"
   ]
  },
  {
   "cell_type": "markdown",
   "metadata": {},
   "source": [
    "Heapsort uses a heap to sort a list of numbers. Each element is added to the heap. Once the elements have been added, each element is removed in turn. The elements will be returned in largest to smallest size and can be placed in order in the list in an appropriate fashion. This is all done in an efficient way such that heapsort ends up being Θ(nlogn)."
   ]
  }
 ],
 "metadata": {
  "kernelspec": {
   "display_name": "Python 3",
   "language": "python",
   "name": "python3"
  },
  "language_info": {
   "codemirror_mode": {
    "name": "ipython",
    "version": 3
   },
   "file_extension": ".py",
   "mimetype": "text/x-python",
   "name": "python",
   "nbconvert_exporter": "python",
   "pygments_lexer": "ipython3",
   "version": "3.7.3"
  }
 },
 "nbformat": 4,
 "nbformat_minor": 2
}
