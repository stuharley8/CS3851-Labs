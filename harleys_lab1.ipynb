{
 "cells": [
  {
   "cell_type": "markdown",
   "metadata": {},
   "source": [
    "# CS 3851 Algorithms - Lab 1: Comparing the Run Times of Common Python Data Structures\n",
    "\n",
    "## Stuart Harley"
   ]
  },
  {
   "cell_type": "markdown",
   "metadata": {},
   "source": [
    "### Introduction"
   ]
  },
  {
   "cell_type": "markdown",
   "metadata": {},
   "source": [
    "In this lab we review the common data structures list, deque, and set, and the run times of some of their operations. Specifically the append, insert (at index 0), and \"in\" (contains) operations. In order to better visualize the time complexities of these operations, we are going to benchmark these operations."
   ]
  },
  {
   "cell_type": "markdown",
   "metadata": {},
   "source": [
    "### Importing Libraries"
   ]
  },
  {
   "cell_type": "code",
   "execution_count": 1,
   "metadata": {},
   "outputs": [],
   "source": [
    "from collections import deque\n",
    "import time"
   ]
  },
  {
   "cell_type": "markdown",
   "metadata": {},
   "source": [
    "### Problem 1: Benchmarking the append() operation on Lists and Deques"
   ]
  },
  {
   "cell_type": "markdown",
   "metadata": {},
   "source": [
    "Starting with an empty list, benchmarking the time required to add 1,000,000 items to the list. Using the number 5 as an integer constant to be added."
   ]
  },
  {
   "cell_type": "code",
   "execution_count": 2,
   "metadata": {},
   "outputs": [
    {
     "name": "stdout",
     "output_type": "stream",
     "text": [
      "0.08102197502739727 sec\n"
     ]
    }
   ],
   "source": [
    "l = []\n",
    "start_time = time.perf_counter()\n",
    "for i in range(1000000):\n",
    "    l.append(5)\n",
    "end_time = time.perf_counter()\n",
    "print(end_time - start_time, 'sec')"
   ]
  },
  {
   "cell_type": "markdown",
   "metadata": {},
   "source": [
    "Starting with an empty deque, benchmarking the time required to add 1,000,000 items to the deque. Using the number 5 as an integer constant to be added."
   ]
  },
  {
   "cell_type": "code",
   "execution_count": 3,
   "metadata": {},
   "outputs": [
    {
     "name": "stdout",
     "output_type": "stream",
     "text": [
      "0.08276941103395075 sec\n"
     ]
    }
   ],
   "source": [
    "d = deque()\n",
    "start_time = time.perf_counter()\n",
    "for i in range(1000000):\n",
    "    d.append(5)\n",
    "end_time = time.perf_counter()\n",
    "print(end_time - start_time, 'sec')"
   ]
  },
  {
   "cell_type": "markdown",
   "metadata": {},
   "source": [
    "### Problem 2: Benchmarking the insert(0, ITEM) operation on Lists and Deques"
   ]
  },
  {
   "cell_type": "markdown",
   "metadata": {},
   "source": [
    "Starting with an empty list, benchmarking the time required to add 1,000,000 items at the front of the list. Using the number 5 as an integer constant to be added."
   ]
  },
  {
   "cell_type": "code",
   "execution_count": 4,
   "metadata": {},
   "outputs": [
    {
     "name": "stdout",
     "output_type": "stream",
     "text": [
      "268.5798508269945 sec\n"
     ]
    }
   ],
   "source": [
    "l = []\n",
    "start_time = time.perf_counter()\n",
    "for i in range(1000000):\n",
    "    l.insert(0, 5)\n",
    "end_time = time.perf_counter()\n",
    "print(end_time - start_time, 'sec')"
   ]
  },
  {
   "cell_type": "markdown",
   "metadata": {},
   "source": [
    "Starting with an empty deque, benchmarking the time required to add 1,000,000 items at the front of the deque. Using the number 5 as an integer constant to be added."
   ]
  },
  {
   "cell_type": "code",
   "execution_count": 5,
   "metadata": {},
   "outputs": [
    {
     "name": "stdout",
     "output_type": "stream",
     "text": [
      "0.11011907400097698 sec\n"
     ]
    }
   ],
   "source": [
    "d = deque()\n",
    "start_time = time.perf_counter()\n",
    "for i in range(1000000):\n",
    "    d.insert(0, 5)\n",
    "end_time = time.perf_counter()\n",
    "print(end_time - start_time, 'sec')"
   ]
  },
  {
   "cell_type": "markdown",
   "metadata": {},
   "source": [
    "### Problem 3: Comparing the \"in\" (contains) operation on Lists and Sets"
   ]
  },
  {
   "cell_type": "markdown",
   "metadata": {},
   "source": [
    "Adding 100,000 unique items to an empty list. Using the numbers 1 through 100,000 for this. Then benchmarking the time required to call \"in\" 100,000 times on a list. In order to capture the worst case run time, checking for a item not in the list, -5."
   ]
  },
  {
   "cell_type": "code",
   "execution_count": 6,
   "metadata": {},
   "outputs": [
    {
     "name": "stdout",
     "output_type": "stream",
     "text": [
      "83.21763147902675 sec\n"
     ]
    }
   ],
   "source": [
    "l = []\n",
    "for i in range(100000):\n",
    "    l.append(i+1)\n",
    "start_time = time.perf_counter()\n",
    "for i in range(100000):\n",
    "    -5 in l\n",
    "end_time = time.perf_counter()\n",
    "print(end_time - start_time, 'sec')"
   ]
  },
  {
   "cell_type": "markdown",
   "metadata": {},
   "source": [
    "Adding 100,000 unique items to an empty set. Using the numbers 1 through 100,000 for this. Then benchmarking the time required to call \"in\" 100,000 times on a list. In order to capture the worst case run time, checking for a item not in the list, -5."
   ]
  },
  {
   "cell_type": "code",
   "execution_count": 7,
   "metadata": {},
   "outputs": [
    {
     "name": "stdout",
     "output_type": "stream",
     "text": [
      "0.004833626910112798 sec\n"
     ]
    }
   ],
   "source": [
    "s = set()\n",
    "for i in range(100000):\n",
    "    s.add(i+1)\n",
    "start_time = time.perf_counter()\n",
    "for i in range(100000):\n",
    "    -5 in s\n",
    "end_time = time.perf_counter()\n",
    "print(end_time - start_time, 'sec')"
   ]
  },
  {
   "cell_type": "markdown",
   "metadata": {},
   "source": [
    "### Reflection Questions"
   ]
  },
  {
   "cell_type": "markdown",
   "metadata": {},
   "source": [
    "a. Creating a table of the run times from the benchmarking. All times are in seconds."
   ]
  },
  {
   "cell_type": "markdown",
   "metadata": {},
   "source": [
    "| Operation | List Time | Deque Time | Set Time |\n",
    "| -- | -- | -- | -- |\n",
    "| append() | 0.081 | 0.083 | |\n",
    "| insert(0, x) | 268.560 | 0.110 | |\n",
    "| in | 83.218 | | 0.005 |"
   ]
  },
  {
   "cell_type": "markdown",
   "metadata": {},
   "source": [
    "b. The append cases run times were approximately similar.\n",
    "\n",
    "The insert(0,x) and \"in\" cases run times were different."
   ]
  },
  {
   "cell_type": "markdown",
   "metadata": {},
   "source": [
    "c. Adding the big-o notation for these operations to the table."
   ]
  },
  {
   "cell_type": "markdown",
   "metadata": {},
   "source": [
    "| Operation | List Time | Deque Time | Set Time | List big-o | Deque big-o | Set big-o |\n",
    "| -- | -- | -- | -- | -- | -- | -- |\n",
    "| append() | 0.081 | 0.083 | | O(1) | O(1) | |\n",
    "| insert(0, x) | 268.560 | 0.110 | | O(n) | O(1) | |\n",
    "| in | 83.218 | | 0.005 | O(n) | | O(1) |"
   ]
  },
  {
   "cell_type": "markdown",
   "metadata": {},
   "source": [
    "d. The ordering of the run times are consistent with the ordering based on big-o notation."
   ]
  },
  {
   "cell_type": "markdown",
   "metadata": {},
   "source": [
    "### Conclusion"
   ]
  },
  {
   "cell_type": "markdown",
   "metadata": {},
   "source": [
    "When choosing a data structure when writing a program, it is important to pick a structure that is efficient at the most common operations that the program will need. Different data structures has different time complexities for common operations, so picking the wrong structure can greatly slow down the exectution of your program. We visualized this above with the append, insert, and in operations. The differences between a O(1) operation from one data structure and the same operation that is O(n) on a different data structure can be massive depending on the amount of data. \n",
    "\n",
    "For example, inserting into the front of a deque is constant time and took .11 seconds since the deque is built using a double-linked list. While inserting into the front is linear time and took 268.56 seconds since every value in the list had to be shifted to be able to insert at the front. This operation took 2441 times longer running on the list compared to the deque."
   ]
  }
 ],
 "metadata": {
  "kernelspec": {
   "display_name": "Python 3",
   "language": "python",
   "name": "python3"
  },
  "language_info": {
   "codemirror_mode": {
    "name": "ipython",
    "version": 3
   },
   "file_extension": ".py",
   "mimetype": "text/x-python",
   "name": "python",
   "nbconvert_exporter": "python",
   "pygments_lexer": "ipython3",
   "version": "3.7.3"
  }
 },
 "nbformat": 4,
 "nbformat_minor": 2
}
