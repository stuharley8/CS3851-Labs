{
 "cells": [
  {
   "cell_type": "markdown",
   "metadata": {},
   "source": [
    "# CS 3851 Algorithms - Lab 3: Benchmarking Merge Sort\n",
    "\n",
    "## Stuart Harley"
   ]
  },
  {
   "cell_type": "markdown",
   "metadata": {},
   "source": [
    "### Introduction"
   ]
  },
  {
   "cell_type": "markdown",
   "metadata": {},
   "source": [
    "In this lab we are implementing the sorting algorithm merge sort. We also use our implementation of insertion sort from the last lab for comparison. We are then going to benchmark the algorithms under the best (already sorted), worst (reverse sorted), and average (random permutation) case scenarios. Then we will plot the benchmarking times in order to further analyze and compare the run times of the two algorithms. We show that merge sort O(nlogn) is slower than insertion sort O(n) for the best case scenario, but considerably slower than insertion sort O(n^2) for the average and worst case scenarios."
   ]
  },
  {
   "cell_type": "markdown",
   "metadata": {},
   "source": [
    "### Importing Libraries"
   ]
  },
  {
   "cell_type": "code",
   "execution_count": 1,
   "metadata": {},
   "outputs": [],
   "source": [
    "import time\n",
    "import numpy as np\n",
    "import random\n",
    "import matplotlib.pyplot as plt\n",
    "\n",
    "from sorting import *\n",
    "from test_sorting import *"
   ]
  },
  {
   "cell_type": "markdown",
   "metadata": {},
   "source": [
    "### Testing Implementation of Merge Sort"
   ]
  },
  {
   "cell_type": "code",
   "execution_count": 2,
   "metadata": {},
   "outputs": [
    {
     "name": "stdout",
     "output_type": "stream",
     "text": [
      "...\r\n",
      "----------------------------------------------------------------------\r\n",
      "Ran 3 tests in 0.001s\r\n",
      "\r\n",
      "OK\r\n"
     ]
    }
   ],
   "source": [
    "!python test_sorting.py"
   ]
  },
  {
   "cell_type": "markdown",
   "metadata": {},
   "source": [
    "### Creating Lists to use for Benchmarking"
   ]
  },
  {
   "cell_type": "markdown",
   "metadata": {},
   "source": [
    "For benchmarking, we will evaluate 3 cases: list is already sorted, list is randomly permuted, and list is already sorted in reverse order."
   ]
  },
  {
   "cell_type": "markdown",
   "metadata": {},
   "source": [
    "Creating lists of 100, 1000, 10000, and 100000 numbers. Creating the lists from random numbers. Then shuffling them to generate a random permutation of the list or sorting them in regular/reverse order to create the desired cases."
   ]
  },
  {
   "cell_type": "markdown",
   "metadata": {},
   "source": [
    "_p, _o, _r refers to the list being randomly permutated, sorted in order, and sorted in reverse order respectively."
   ]
  },
  {
   "cell_type": "code",
   "execution_count": 3,
   "metadata": {},
   "outputs": [],
   "source": [
    "l100 = [random.random() for i in range(100)]\n",
    "random.shuffle(l100) # shuffling the list to generate a random permutation\n",
    "l100_p = l100[:]\n",
    "l100.sort() # sorting the list in order\n",
    "l100_o = l100[:]\n",
    "l100.sort(reverse=True) # sorting the list in reverse order\n",
    "l100_r = l100[:]"
   ]
  },
  {
   "cell_type": "code",
   "execution_count": 4,
   "metadata": {},
   "outputs": [],
   "source": [
    "l1000 = [random.random() for i in range(1000)]\n",
    "random.shuffle(l1000) # shuffling the list to generate a random permutation\n",
    "l1000_p = l1000[:]\n",
    "l1000.sort() # sorting the list in order\n",
    "l1000_o = l1000[:]\n",
    "l1000.sort(reverse=True) # sorting the list in reverse order\n",
    "l1000_r = l1000[:]"
   ]
  },
  {
   "cell_type": "code",
   "execution_count": 5,
   "metadata": {},
   "outputs": [],
   "source": [
    "l10000 = [random.random() for i in range(10000)]\n",
    "random.shuffle(l10000) # shuffling the list to generate a random permutation\n",
    "l10000_p = l10000[:]\n",
    "l10000.sort() # sorting the list in order\n",
    "l10000_o = l10000[:]\n",
    "l10000.sort(reverse=True) # sorting the list in reverse order\n",
    "l10000_r = l10000[:]"
   ]
  },
  {
   "cell_type": "code",
   "execution_count": 6,
   "metadata": {},
   "outputs": [],
   "source": [
    "l100000 = [random.random() for i in range(100000)]\n",
    "random.shuffle(l100000) # shuffling the list to generate a random permutation\n",
    "l100000_p = l100000[:]\n",
    "l100000.sort() # sorting the list in order\n",
    "l100000_o = l100000[:]\n",
    "l100000.sort(reverse=True) # sorting the list in reverse order\n",
    "l100000_r = l100000[:]"
   ]
  },
  {
   "cell_type": "markdown",
   "metadata": {},
   "source": [
    "### Benchmarking the Merge Sort Algorithm"
   ]
  },
  {
   "cell_type": "markdown",
   "metadata": {},
   "source": [
    "We are running each benchmark 10 times (trials)."
   ]
  },
  {
   "cell_type": "code",
   "execution_count": 7,
   "metadata": {},
   "outputs": [],
   "source": [
    "n_trials = 10\n",
    "run_times_best_m = []\n",
    "run_times_average_m = []\n",
    "run_times_worst_m = []"
   ]
  },
  {
   "cell_type": "code",
   "execution_count": 8,
   "metadata": {},
   "outputs": [
    {
     "name": "stdout",
     "output_type": "stream",
     "text": [
      "100 elements: randomly permuted\n",
      "Average Time: 0.0008743892889469862 sec\n",
      "100 elements: Sorted in Order\n",
      "Average Time: 0.0010021373629570008 sec\n",
      "100 elements: Sorted in Reverse\n",
      "Average Time: 0.0009507143869996071 sec\n"
     ]
    }
   ],
   "source": [
    "# 100 elements\n",
    "times = []\n",
    "for i in range(n_trials):\n",
    "    lst2 = l100_p[:] # copying the input list so we don't modify it\n",
    "    start = time.perf_counter()\n",
    "    merge_sort(lst2, 0, len(lst2) - 1)\n",
    "    end = time.perf_counter()\n",
    "    elapsed = end - start\n",
    "    times.append(elapsed)\n",
    "print('100 elements: randomly permuted')\n",
    "print('Average Time:', np.mean(times), 'sec')\n",
    "run_times_average_m.append(np.mean(times))\n",
    "\n",
    "times = []\n",
    "for i in range(n_trials):\n",
    "    lst2 = l100_o[:] # copying the input list so we don't modify it\n",
    "    start = time.perf_counter()\n",
    "    merge_sort(lst2, 0, len(lst2) - 1)\n",
    "    end = time.perf_counter()\n",
    "    elapsed = end - start\n",
    "    times.append(elapsed)\n",
    "print('100 elements: Sorted in Order')\n",
    "print('Average Time:', np.mean(times), 'sec')\n",
    "run_times_best_m.append(np.mean(times))\n",
    "\n",
    "times = []\n",
    "for i in range(n_trials):\n",
    "    lst2 = l100_r[:] # copying the input list so we don't modify it\n",
    "    start = time.perf_counter()\n",
    "    merge_sort(lst2, 0, len(lst2) - 1)\n",
    "    end = time.perf_counter()\n",
    "    elapsed = end - start\n",
    "    times.append(elapsed)\n",
    "print('100 elements: Sorted in Reverse')\n",
    "print('Average Time:', np.mean(times), 'sec')\n",
    "run_times_worst_m.append(np.mean(times))"
   ]
  },
  {
   "cell_type": "code",
   "execution_count": 9,
   "metadata": {},
   "outputs": [
    {
     "name": "stdout",
     "output_type": "stream",
     "text": [
      "1000 elements: randomly permuted\n",
      "Average Time: 0.01145945661701262 sec\n",
      "1000 elements: Sorted in Order\n",
      "Average Time: 0.011629405664280057 sec\n",
      "1000 elements: Sorted in Reverse\n",
      "Average Time: 0.011316057154908776 sec\n"
     ]
    }
   ],
   "source": [
    "# 1000 elements\n",
    "times = []\n",
    "for i in range(n_trials):\n",
    "    lst2 = l1000_p[:] # copying the input list so we don't modify it\n",
    "    start = time.perf_counter()\n",
    "    merge_sort(lst2, 0, len(lst2) - 1)\n",
    "    end = time.perf_counter()\n",
    "    elapsed = end - start\n",
    "    times.append(elapsed)\n",
    "print('1000 elements: randomly permuted')\n",
    "print('Average Time:', np.mean(times), 'sec')\n",
    "run_times_average_m.append(np.mean(times))\n",
    "\n",
    "times = []\n",
    "for i in range(n_trials):\n",
    "    lst2 = l1000_o[:] # copying the input list so we don't modify it\n",
    "    start = time.perf_counter()\n",
    "    merge_sort(lst2, 0, len(lst2) - 1)\n",
    "    end = time.perf_counter()\n",
    "    elapsed = end - start\n",
    "    times.append(elapsed)\n",
    "print('1000 elements: Sorted in Order')\n",
    "print('Average Time:', np.mean(times), 'sec')\n",
    "run_times_best_m.append(np.mean(times))\n",
    "\n",
    "times = []\n",
    "for i in range(n_trials):\n",
    "    lst2 = l1000_r[:] # copying the input list so we don't modify it\n",
    "    start = time.perf_counter()\n",
    "    merge_sort(lst2, 0, len(lst2) - 1)\n",
    "    end = time.perf_counter()\n",
    "    elapsed = end - start\n",
    "    times.append(elapsed)\n",
    "print('1000 elements: Sorted in Reverse')\n",
    "print('Average Time:', np.mean(times), 'sec')\n",
    "run_times_worst_m.append(np.mean(times))"
   ]
  },
  {
   "cell_type": "code",
   "execution_count": 10,
   "metadata": {},
   "outputs": [
    {
     "name": "stdout",
     "output_type": "stream",
     "text": [
      "10000 elements: randomly permuted\n",
      "Average Time: 0.13955251453444362 sec\n",
      "10000 elements: Sorted in Order\n",
      "Average Time: 0.13793887230567634 sec\n",
      "10000 elements: Sorted in Reverse\n",
      "Average Time: 0.1434717732015997 sec\n"
     ]
    }
   ],
   "source": [
    "# 10000 elements\n",
    "times = []\n",
    "for i in range(n_trials):\n",
    "    lst2 = l10000_p[:] # copying the input list so we don't modify it\n",
    "    start = time.perf_counter()\n",
    "    merge_sort(lst2, 0, len(lst2) - 1)\n",
    "    end = time.perf_counter()\n",
    "    elapsed = end - start\n",
    "    times.append(elapsed)\n",
    "print('10000 elements: randomly permuted')\n",
    "print('Average Time:', np.mean(times), 'sec')\n",
    "run_times_average_m.append(np.mean(times))\n",
    "\n",
    "times = []\n",
    "for i in range(n_trials):\n",
    "    lst2 = l10000_o[:] # copying the input list so we don't modify it\n",
    "    start = time.perf_counter()\n",
    "    merge_sort(lst2, 0, len(lst2) - 1)\n",
    "    end = time.perf_counter()\n",
    "    elapsed = end - start\n",
    "    times.append(elapsed)\n",
    "print('10000 elements: Sorted in Order')\n",
    "print('Average Time:', np.mean(times), 'sec')\n",
    "run_times_best_m.append(np.mean(times))\n",
    "\n",
    "times = []\n",
    "for i in range(n_trials):\n",
    "    lst2 = l10000_r[:] # copying the input list so we don't modify it\n",
    "    start = time.perf_counter()\n",
    "    merge_sort(lst2, 0, len(lst2) - 1)\n",
    "    end = time.perf_counter()\n",
    "    elapsed = end - start\n",
    "    times.append(elapsed)\n",
    "print('10000 elements: Sorted in Reverse')\n",
    "print('Average Time:', np.mean(times), 'sec')\n",
    "run_times_worst_m.append(np.mean(times))"
   ]
  },
  {
   "cell_type": "code",
   "execution_count": 11,
   "metadata": {},
   "outputs": [
    {
     "name": "stdout",
     "output_type": "stream",
     "text": [
      "100000 elements: randomly permuted\n",
      "Average Time: 1.6516511477995663 sec\n",
      "100000 elements: Sorted in Order\n",
      "Average Time: 1.6215206089895218 sec\n",
      "100000 elements: Sorted in Reverse\n",
      "Average Time: 1.6171391546726226 sec\n"
     ]
    }
   ],
   "source": [
    "# 100000 elements\n",
    "times = []\n",
    "for i in range(n_trials):\n",
    "    lst2 = l100000_p[:] # copying the input list so we don't modify it\n",
    "    start = time.perf_counter()\n",
    "    merge_sort(lst2, 0, len(lst2) - 1)\n",
    "    end = time.perf_counter()\n",
    "    elapsed = end - start\n",
    "    times.append(elapsed)\n",
    "print('100000 elements: randomly permuted')\n",
    "print('Average Time:', np.mean(times), 'sec')\n",
    "run_times_average_m.append(np.mean(times))\n",
    "\n",
    "times = []\n",
    "for i in range(n_trials):\n",
    "    lst2 = l100000_o[:] # copying the input list so we don't modify it\n",
    "    start = time.perf_counter()\n",
    "    merge_sort(lst2, 0, len(lst2) - 1)\n",
    "    end = time.perf_counter()\n",
    "    elapsed = end - start\n",
    "    times.append(elapsed)\n",
    "print('100000 elements: Sorted in Order')\n",
    "print('Average Time:', np.mean(times), 'sec')\n",
    "run_times_best_m.append(np.mean(times))\n",
    "\n",
    "times = []\n",
    "for i in range(n_trials):\n",
    "    lst2 = l100000_r[:] # copying the input list so we don't modify it\n",
    "    start = time.perf_counter()\n",
    "    merge_sort(lst2, 0, len(lst2) - 1)\n",
    "    end = time.perf_counter()\n",
    "    elapsed = end - start\n",
    "    times.append(elapsed)\n",
    "print('100000 elements: Sorted in Reverse')\n",
    "print('Average Time:', np.mean(times), 'sec')\n",
    "run_times_worst_m.append(np.mean(times))"
   ]
  },
  {
   "cell_type": "markdown",
   "metadata": {},
   "source": [
    "### Benchmarking the Insertion Sort Algorithm"
   ]
  },
  {
   "cell_type": "code",
   "execution_count": 12,
   "metadata": {},
   "outputs": [],
   "source": [
    "run_times_best_i = []\n",
    "run_times_average_i = []\n",
    "run_times_worst_i = []"
   ]
  },
  {
   "cell_type": "code",
   "execution_count": 13,
   "metadata": {},
   "outputs": [
    {
     "name": "stdout",
     "output_type": "stream",
     "text": [
      "100 elements: randomly permuted\n",
      "Average Time: 0.0008634826168417931 sec\n",
      "100 elements: Sorted in Order\n",
      "Average Time: 4.2644329369068146e-05 sec\n",
      "100 elements: Sorted in Reverse\n",
      "Average Time: 0.0018964204005897044 sec\n"
     ]
    }
   ],
   "source": [
    "# 100 elements\n",
    "times = []\n",
    "for i in range(n_trials):\n",
    "    lst2 = l100_p[:] # copying the input list so we don't modify it\n",
    "    start = time.perf_counter()\n",
    "    insertion_sort(lst2)\n",
    "    end = time.perf_counter()\n",
    "    elapsed = end - start\n",
    "    times.append(elapsed)\n",
    "print('100 elements: randomly permuted')\n",
    "print('Average Time:', np.mean(times), 'sec')\n",
    "run_times_average_i.append(np.mean(times))\n",
    "\n",
    "times = []\n",
    "for i in range(n_trials):\n",
    "    lst2 = l100_o[:] # copying the input list so we don't modify it\n",
    "    start = time.perf_counter()\n",
    "    insertion_sort(lst2)\n",
    "    end = time.perf_counter()\n",
    "    elapsed = end - start\n",
    "    times.append(elapsed)\n",
    "print('100 elements: Sorted in Order')\n",
    "print('Average Time:', np.mean(times), 'sec')\n",
    "run_times_best_i.append(np.mean(times))\n",
    "\n",
    "times = []\n",
    "for i in range(n_trials):\n",
    "    lst2 = l100_r[:] # copying the input list so we don't modify it\n",
    "    start = time.perf_counter()\n",
    "    insertion_sort(lst2)\n",
    "    end = time.perf_counter()\n",
    "    elapsed = end - start\n",
    "    times.append(elapsed)\n",
    "print('100 elements: Sorted in Reverse')\n",
    "print('Average Time:', np.mean(times), 'sec')\n",
    "run_times_worst_i.append(np.mean(times))"
   ]
  },
  {
   "cell_type": "code",
   "execution_count": 14,
   "metadata": {},
   "outputs": [
    {
     "name": "stdout",
     "output_type": "stream",
     "text": [
      "100 elements: randomly permuted\n",
      "Average Time: 0.10018951925449074 sec\n",
      "100 elements: Sorted in Order\n",
      "Average Time: 0.0005901136435568332 sec\n",
      "100 elements: Sorted in Reverse\n",
      "Average Time: 0.1936948787420988 sec\n"
     ]
    }
   ],
   "source": [
    "# 1000 elements\n",
    "times = []\n",
    "for i in range(n_trials):\n",
    "    lst2 = l1000_p[:] # copying the input list so we don't modify it\n",
    "    start = time.perf_counter()\n",
    "    insertion_sort(lst2)\n",
    "    end = time.perf_counter()\n",
    "    elapsed = end - start\n",
    "    times.append(elapsed)\n",
    "print('100 elements: randomly permuted')\n",
    "print('Average Time:', np.mean(times), 'sec')\n",
    "run_times_average_i.append(np.mean(times))\n",
    "\n",
    "times = []\n",
    "for i in range(n_trials):\n",
    "    lst2 = l1000_o[:] # copying the input list so we don't modify it\n",
    "    start = time.perf_counter()\n",
    "    insertion_sort(lst2)\n",
    "    end = time.perf_counter()\n",
    "    elapsed = end - start\n",
    "    times.append(elapsed)\n",
    "print('100 elements: Sorted in Order')\n",
    "print('Average Time:', np.mean(times), 'sec')\n",
    "run_times_best_i.append(np.mean(times))\n",
    "\n",
    "times = []\n",
    "for i in range(n_trials):\n",
    "    lst2 = l1000_r[:] # copying the input list so we don't modify it\n",
    "    start = time.perf_counter()\n",
    "    insertion_sort(lst2)\n",
    "    end = time.perf_counter()\n",
    "    elapsed = end - start\n",
    "    times.append(elapsed)\n",
    "print('100 elements: Sorted in Reverse')\n",
    "print('Average Time:', np.mean(times), 'sec')\n",
    "run_times_worst_i.append(np.mean(times))"
   ]
  },
  {
   "cell_type": "code",
   "execution_count": 15,
   "metadata": {},
   "outputs": [
    {
     "name": "stdout",
     "output_type": "stream",
     "text": [
      "100 elements: randomly permuted\n",
      "Average Time: 10.331166822928935 sec\n",
      "100 elements: Sorted in Order\n",
      "Average Time: 0.00527221942320466 sec\n",
      "100 elements: Sorted in Reverse\n",
      "Average Time: 20.68036577217281 sec\n"
     ]
    }
   ],
   "source": [
    "# 10000 elements\n",
    "times = []\n",
    "for i in range(n_trials):\n",
    "    lst2 = l10000_p[:] # copying the input list so we don't modify it\n",
    "    start = time.perf_counter()\n",
    "    insertion_sort(lst2)\n",
    "    end = time.perf_counter()\n",
    "    elapsed = end - start\n",
    "    times.append(elapsed)\n",
    "print('100 elements: randomly permuted')\n",
    "print('Average Time:', np.mean(times), 'sec')\n",
    "run_times_average_i.append(np.mean(times))\n",
    "\n",
    "times = []\n",
    "for i in range(n_trials):\n",
    "    lst2 = l10000_o[:] # copying the input list so we don't modify it\n",
    "    start = time.perf_counter()\n",
    "    insertion_sort(lst2)\n",
    "    end = time.perf_counter()\n",
    "    elapsed = end - start\n",
    "    times.append(elapsed)\n",
    "print('100 elements: Sorted in Order')\n",
    "print('Average Time:', np.mean(times), 'sec')\n",
    "run_times_best_i.append(np.mean(times))\n",
    "\n",
    "times = []\n",
    "for i in range(n_trials):\n",
    "    lst2 = l10000_r[:] # copying the input list so we don't modify it\n",
    "    start = time.perf_counter()\n",
    "    insertion_sort(lst2)\n",
    "    end = time.perf_counter()\n",
    "    elapsed = end - start\n",
    "    times.append(elapsed)\n",
    "print('100 elements: Sorted in Reverse')\n",
    "print('Average Time:', np.mean(times), 'sec')\n",
    "run_times_worst_i.append(np.mean(times))"
   ]
  },
  {
   "cell_type": "code",
   "execution_count": 16,
   "metadata": {},
   "outputs": [
    {
     "name": "stdout",
     "output_type": "stream",
     "text": [
      "100 elements: randomly permuted\n",
      "Average Time: 1109.823928119149 sec\n",
      "100 elements: Sorted in Order\n",
      "Average Time: 0.0568594029173255 sec\n",
      "100 elements: Sorted in Reverse\n",
      "Average Time: 2268.8596591409296 sec\n"
     ]
    }
   ],
   "source": [
    "# 100000 elements\n",
    "times = []\n",
    "for i in range(n_trials):\n",
    "    lst2 = l100000_p[:] # copying the input list so we don't modify it\n",
    "    start = time.perf_counter()\n",
    "    insertion_sort(lst2)\n",
    "    end = time.perf_counter()\n",
    "    elapsed = end - start\n",
    "    times.append(elapsed)\n",
    "print('100 elements: randomly permuted')\n",
    "print('Average Time:', np.mean(times), 'sec')\n",
    "run_times_average_i.append(np.mean(times))\n",
    "\n",
    "times = []\n",
    "for i in range(n_trials):\n",
    "    lst2 = l100000_o[:] # copying the input list so we don't modify it\n",
    "    start = time.perf_counter()\n",
    "    insertion_sort(lst2)\n",
    "    end = time.perf_counter()\n",
    "    elapsed = end - start\n",
    "    times.append(elapsed)\n",
    "print('100 elements: Sorted in Order')\n",
    "print('Average Time:', np.mean(times), 'sec')\n",
    "run_times_best_i.append(np.mean(times))\n",
    "\n",
    "times = []\n",
    "for i in range(n_trials):\n",
    "    lst2 = l100000_r[:] # copying the input list so we don't modify it\n",
    "    start = time.perf_counter()\n",
    "    insertion_sort(lst2)\n",
    "    end = time.perf_counter()\n",
    "    elapsed = end - start\n",
    "    times.append(elapsed)\n",
    "print('100 elements: Sorted in Reverse')\n",
    "print('Average Time:', np.mean(times), 'sec')\n",
    "run_times_worst_i.append(np.mean(times))"
   ]
  },
  {
   "cell_type": "markdown",
   "metadata": {},
   "source": [
    "### Plotting the Benchmarked Run Times"
   ]
  },
  {
   "cell_type": "code",
   "execution_count": 17,
   "metadata": {},
   "outputs": [],
   "source": [
    "list_sizes = [100, 1000, 10000, 100000]"
   ]
  },
  {
   "cell_type": "markdown",
   "metadata": {},
   "source": [
    "Creating one plot for each of the two algorithms with all three cases on them."
   ]
  },
  {
   "cell_type": "code",
   "execution_count": 18,
   "metadata": {},
   "outputs": [
    {
     "data": {
      "image/png": "[encoded data removed]",
      "text/plain": [
       "<Figure size 432x288 with 1 Axes>"
      ]
     },
     "metadata": {
      "needs_background": "light"
     },
     "output_type": "display_data"
    }
   ],
   "source": [
    "plt.plot(list_sizes, run_times_best_m, label=\"best\")\n",
    "plt.plot(list_sizes, run_times_average_m, label=\"average\")\n",
    "plt.plot(list_sizes, run_times_worst_m, label=\"worst\")\n",
    "plt.xlabel(\"List Size\", fontsize=18)\n",
    "plt.ylabel(\"Run Time (s)\", fontsize=18)\n",
    "plt.title(\"Merge Sort\", fontsize=20)\n",
    "plt.legend()\n",
    "plt.xscale('log')"
   ]
  },
  {
   "cell_type": "code",
   "execution_count": 19,
   "metadata": {},
   "outputs": [
    {
     "data": {
      "image/png": "[encoded data removed]",
      "text/plain": [
       "<Figure size 432x288 with 1 Axes>"
      ]
     },
     "metadata": {
      "needs_background": "light"
     },
     "output_type": "display_data"
    }
   ],
   "source": [
    "plt.plot(list_sizes, run_times_best_i, label=\"best\")\n",
    "plt.plot(list_sizes, run_times_average_i, label=\"average\")\n",
    "plt.plot(list_sizes, run_times_worst_i, label=\"worst\")\n",
    "plt.xlabel(\"List Size\", fontsize=18)\n",
    "plt.ylabel(\"Run Time (s)\", fontsize=18)\n",
    "plt.title(\"Insertion Sort\", fontsize=20)\n",
    "plt.legend()\n",
    "plt.xscale('log')"
   ]
  },
  {
   "cell_type": "markdown",
   "metadata": {},
   "source": [
    "Creating one plot for each case comparing merge sort and insertion sort."
   ]
  },
  {
   "cell_type": "code",
   "execution_count": 20,
   "metadata": {},
   "outputs": [
    {
     "data": {
      "image/png": "[encoded data removed]",
      "text/plain": [
       "<Figure size 432x288 with 1 Axes>"
      ]
     },
     "metadata": {
      "needs_background": "light"
     },
     "output_type": "display_data"
    }
   ],
   "source": [
    "plt.plot(list_sizes, run_times_best_m, label=\"merge sort\")\n",
    "plt.plot(list_sizes, run_times_best_i, label=\"insertion sort\")\n",
    "plt.xlabel(\"List Size\", fontsize=18)\n",
    "plt.ylabel(\"Run Time (s)\", fontsize=18)\n",
    "plt.title(\"Best Case (Sorted Order)\", fontsize=20)\n",
    "plt.legend()\n",
    "plt.xscale('log')"
   ]
  },
  {
   "cell_type": "code",
   "execution_count": 21,
   "metadata": {},
   "outputs": [
    {
     "data": {
      "image/png": "[encoded data removed]",
      "text/plain": [
       "<Figure size 432x288 with 1 Axes>"
      ]
     },
     "metadata": {
      "needs_background": "light"
     },
     "output_type": "display_data"
    }
   ],
   "source": [
    "plt.plot(list_sizes, run_times_average_m, label=\"merge sort\")\n",
    "plt.plot(list_sizes, run_times_average_i, label=\"insertion sort\")\n",
    "plt.xlabel(\"List Size\", fontsize=18)\n",
    "plt.ylabel(\"Run Time (s)\", fontsize=18)\n",
    "plt.title(\"Average Case (Random Permutation)\", fontsize=20)\n",
    "plt.legend()\n",
    "plt.xscale('log')"
   ]
  },
  {
   "cell_type": "code",
   "execution_count": 22,
   "metadata": {},
   "outputs": [
    {
     "data": {
      "image/png": "[encoded data removed]",
      "text/plain": [
       "<Figure size 432x288 with 1 Axes>"
      ]
     },
     "metadata": {
      "needs_background": "light"
     },
     "output_type": "display_data"
    }
   ],
   "source": [
    "plt.plot(list_sizes, run_times_worst_m, label=\"merge sort\")\n",
    "plt.plot(list_sizes, run_times_worst_i, label=\"insertion sort\")\n",
    "plt.xlabel(\"List Size\", fontsize=18)\n",
    "plt.ylabel(\"Run Time (s)\", fontsize=18)\n",
    "plt.title(\"Worst Case (Reverse Order)\", fontsize=20)\n",
    "plt.legend()\n",
    "plt.xscale('log')"
   ]
  },
  {
   "cell_type": "markdown",
   "metadata": {},
   "source": [
    "### Reflection Questions"
   ]
  },
  {
   "cell_type": "markdown",
   "metadata": {},
   "source": [
    "1) The differences between the run times of the three cases for merge sort were negligible. All the cases ran quickly with very minimal differences. It seemed that the reverse order was the best, the sorted order was next best, and the random permutation was the worst. But again, the differences were negligible."
   ]
  },
  {
   "cell_type": "markdown",
   "metadata": {},
   "source": [
    "2) The sorting of the sorted and reverse sorted lists would involve a lot of comparisons with infinity with the way we implemented the merge function. Whereas the random permuation would have less because the numbers would be mixed up more. It is possible that the computer can compare a number and infinity quicker than two numbers that are closer together which could explain why the random permutation takes ever so slightly longer."
   ]
  },
  {
   "cell_type": "markdown",
   "metadata": {},
   "source": [
    "3) Merge sort is O(nlogn) for all cases. This is consistent with our benchmarking which showed no significant differences between the different cases."
   ]
  },
  {
   "cell_type": "markdown",
   "metadata": {},
   "source": [
    "4) There were differences between every case of insertion sort vs merge sort. Insertion sort ran faster for the best case (already sorted), but performed much worse in the worst case (reverse sorted) and the average case (random permutation)."
   ]
  },
  {
   "cell_type": "markdown",
   "metadata": {},
   "source": [
    "5) Insertion sort is O(n) for the best case scenario which is faster than merge sort's O(nlogn). In the best case insertion sort only has to make 1 comparison for each number in the list (n total comparisons), but merge sort has to make nlogn comparisons, which is slighlty slower. However, insertion sort is O(n^2) for the average case and worst case scenarios which is much slower than merge sort's O(nlogn), which the differences growing exponentially as the size of the list grows. These time complexities were consistent with my benchmarking."
   ]
  },
  {
   "cell_type": "markdown",
   "metadata": {},
   "source": [
    "### Conclusion"
   ]
  },
  {
   "cell_type": "markdown",
   "metadata": {},
   "source": [
    "Merge sort is O(nlogn) for all cases. It only slighlty underperforms insertion sort O(n) in the best case scenario. However, the best case scenario is that the list is already sorted. If you knew that your list was already sorted than you probably wouldn't go about sorting it. For the average and worst case scenarios merge sort greatly outperforms insertion sort O(n^2). As the size of the list goes up, the difference increases exponentially. For this reason, insertion sort is only a viable algorithm to choose over merge sort in very small lists, or lists that are already very close to being ordered. Otherwise, you should always use merge sort over insertion sort."
   ]
  }
 ],
 "metadata": {
  "kernelspec": {
   "display_name": "Python 3",
   "language": "python",
   "name": "python3"
  },
  "language_info": {
   "codemirror_mode": {
    "name": "ipython",
    "version": 3
   },
   "file_extension": ".py",
   "mimetype": "text/x-python",
   "name": "python",
   "nbconvert_exporter": "python",
   "pygments_lexer": "ipython3",
   "version": "3.7.3"
  }
 },
 "nbformat": 4,
 "nbformat_minor": 2
}
